{
  "nbformat": 4,
  "nbformat_minor": 2,
  "metadata": {
    "colab": {
      "name": "word2vec.ipynb",
      "provenance": []
    },
    "kernelspec": {
      "display_name": "Python 3",
      "name": "python3"
    },
    "language_info": {
      "name": "python"
    },
    "widgets": {
      "application/vnd.jupyter.widget-state+json": {
        "9a427ffce24d429da2eccd37fcc2622d": {
          "model_module": "@jupyter-widgets/controls",
          "model_name": "HBoxModel",
          "model_module_version": "1.5.0",
          "state": {
            "_view_name": "HBoxView",
            "_dom_classes": [],
            "_model_name": "HBoxModel",
            "_view_module": "@jupyter-widgets/controls",
            "_model_module_version": "1.5.0",
            "_view_count": null,
            "_view_module_version": "1.5.0",
            "box_style": "",
            "layout": "IPY_MODEL_d862214bccaa49029cc7c3fae0a592e7",
            "_model_module": "@jupyter-widgets/controls",
            "children": [
              "IPY_MODEL_b0dc5d2e291340829584cfcc573b4eb2",
              "IPY_MODEL_cdd1cdce3b1444d497a575128d14faa5",
              "IPY_MODEL_1bc04425ae7846ad9dd9f2165cf974c6"
            ]
          }
        },
        "d862214bccaa49029cc7c3fae0a592e7": {
          "model_module": "@jupyter-widgets/base",
          "model_name": "LayoutModel",
          "model_module_version": "1.2.0",
          "state": {
            "_view_name": "LayoutView",
            "grid_template_rows": null,
            "right": null,
            "justify_content": null,
            "_view_module": "@jupyter-widgets/base",
            "overflow": null,
            "_model_module_version": "1.2.0",
            "_view_count": null,
            "flex_flow": null,
            "width": null,
            "min_width": null,
            "border": null,
            "align_items": null,
            "bottom": null,
            "_model_module": "@jupyter-widgets/base",
            "top": null,
            "grid_column": null,
            "overflow_y": null,
            "overflow_x": null,
            "grid_auto_flow": null,
            "grid_area": null,
            "grid_template_columns": null,
            "flex": null,
            "_model_name": "LayoutModel",
            "justify_items": null,
            "grid_row": null,
            "max_height": null,
            "align_content": null,
            "visibility": null,
            "align_self": null,
            "height": null,
            "min_height": null,
            "padding": null,
            "grid_auto_rows": null,
            "grid_gap": null,
            "max_width": null,
            "order": null,
            "_view_module_version": "1.2.0",
            "grid_template_areas": null,
            "object_position": null,
            "object_fit": null,
            "grid_auto_columns": null,
            "margin": null,
            "display": null,
            "left": null
          }
        },
        "b0dc5d2e291340829584cfcc573b4eb2": {
          "model_module": "@jupyter-widgets/controls",
          "model_name": "HTMLModel",
          "model_module_version": "1.5.0",
          "state": {
            "_view_name": "HTMLView",
            "style": "IPY_MODEL_7c8739aacc8d4ce483a323e1eb402f75",
            "_dom_classes": [],
            "description": "",
            "_model_name": "HTMLModel",
            "placeholder": "​",
            "_view_module": "@jupyter-widgets/controls",
            "_model_module_version": "1.5.0",
            "value": "Dl Completed...: 100%",
            "_view_count": null,
            "_view_module_version": "1.5.0",
            "description_tooltip": null,
            "_model_module": "@jupyter-widgets/controls",
            "layout": "IPY_MODEL_d7df26a5e5e04472908f1073df135ac6"
          }
        },
        "cdd1cdce3b1444d497a575128d14faa5": {
          "model_module": "@jupyter-widgets/controls",
          "model_name": "FloatProgressModel",
          "model_module_version": "1.5.0",
          "state": {
            "_view_name": "ProgressView",
            "style": "IPY_MODEL_3b9252469ebb41f9ae3cf30a58677d3f",
            "_dom_classes": [],
            "description": "",
            "_model_name": "FloatProgressModel",
            "bar_style": "success",
            "max": 3,
            "_view_module": "@jupyter-widgets/controls",
            "_model_module_version": "1.5.0",
            "value": 3,
            "_view_count": null,
            "_view_module_version": "1.5.0",
            "orientation": "horizontal",
            "min": 0,
            "description_tooltip": null,
            "_model_module": "@jupyter-widgets/controls",
            "layout": "IPY_MODEL_c9d3076192034639aa96ffd0500fd4b5"
          }
        },
        "1bc04425ae7846ad9dd9f2165cf974c6": {
          "model_module": "@jupyter-widgets/controls",
          "model_name": "HTMLModel",
          "model_module_version": "1.5.0",
          "state": {
            "_view_name": "HTMLView",
            "style": "IPY_MODEL_27f57409f2194b21a53a6864c22eee8d",
            "_dom_classes": [],
            "description": "",
            "_model_name": "HTMLModel",
            "placeholder": "​",
            "_view_module": "@jupyter-widgets/controls",
            "_model_module_version": "1.5.0",
            "value": " 3/3 [00:01&lt;00:00,  1.94 file/s]",
            "_view_count": null,
            "_view_module_version": "1.5.0",
            "description_tooltip": null,
            "_model_module": "@jupyter-widgets/controls",
            "layout": "IPY_MODEL_1adf9b5265d74421b4d58aa9a6a85f57"
          }
        },
        "7c8739aacc8d4ce483a323e1eb402f75": {
          "model_module": "@jupyter-widgets/controls",
          "model_name": "DescriptionStyleModel",
          "model_module_version": "1.5.0",
          "state": {
            "_view_name": "StyleView",
            "_model_name": "DescriptionStyleModel",
            "description_width": "",
            "_view_module": "@jupyter-widgets/base",
            "_model_module_version": "1.5.0",
            "_view_count": null,
            "_view_module_version": "1.2.0",
            "_model_module": "@jupyter-widgets/controls"
          }
        },
        "d7df26a5e5e04472908f1073df135ac6": {
          "model_module": "@jupyter-widgets/base",
          "model_name": "LayoutModel",
          "model_module_version": "1.2.0",
          "state": {
            "_view_name": "LayoutView",
            "grid_template_rows": null,
            "right": null,
            "justify_content": null,
            "_view_module": "@jupyter-widgets/base",
            "overflow": null,
            "_model_module_version": "1.2.0",
            "_view_count": null,
            "flex_flow": null,
            "width": null,
            "min_width": null,
            "border": null,
            "align_items": null,
            "bottom": null,
            "_model_module": "@jupyter-widgets/base",
            "top": null,
            "grid_column": null,
            "overflow_y": null,
            "overflow_x": null,
            "grid_auto_flow": null,
            "grid_area": null,
            "grid_template_columns": null,
            "flex": null,
            "_model_name": "LayoutModel",
            "justify_items": null,
            "grid_row": null,
            "max_height": null,
            "align_content": null,
            "visibility": null,
            "align_self": null,
            "height": null,
            "min_height": null,
            "padding": null,
            "grid_auto_rows": null,
            "grid_gap": null,
            "max_width": null,
            "order": null,
            "_view_module_version": "1.2.0",
            "grid_template_areas": null,
            "object_position": null,
            "object_fit": null,
            "grid_auto_columns": null,
            "margin": null,
            "display": null,
            "left": null
          }
        },
        "3b9252469ebb41f9ae3cf30a58677d3f": {
          "model_module": "@jupyter-widgets/controls",
          "model_name": "ProgressStyleModel",
          "model_module_version": "1.5.0",
          "state": {
            "_view_name": "StyleView",
            "_model_name": "ProgressStyleModel",
            "description_width": "",
            "_view_module": "@jupyter-widgets/base",
            "_model_module_version": "1.5.0",
            "_view_count": null,
            "_view_module_version": "1.2.0",
            "bar_color": null,
            "_model_module": "@jupyter-widgets/controls"
          }
        },
        "c9d3076192034639aa96ffd0500fd4b5": {
          "model_module": "@jupyter-widgets/base",
          "model_name": "LayoutModel",
          "model_module_version": "1.2.0",
          "state": {
            "_view_name": "LayoutView",
            "grid_template_rows": null,
            "right": null,
            "justify_content": null,
            "_view_module": "@jupyter-widgets/base",
            "overflow": null,
            "_model_module_version": "1.2.0",
            "_view_count": null,
            "flex_flow": null,
            "width": null,
            "min_width": null,
            "border": null,
            "align_items": null,
            "bottom": null,
            "_model_module": "@jupyter-widgets/base",
            "top": null,
            "grid_column": null,
            "overflow_y": null,
            "overflow_x": null,
            "grid_auto_flow": null,
            "grid_area": null,
            "grid_template_columns": null,
            "flex": null,
            "_model_name": "LayoutModel",
            "justify_items": null,
            "grid_row": null,
            "max_height": null,
            "align_content": null,
            "visibility": null,
            "align_self": null,
            "height": null,
            "min_height": null,
            "padding": null,
            "grid_auto_rows": null,
            "grid_gap": null,
            "max_width": null,
            "order": null,
            "_view_module_version": "1.2.0",
            "grid_template_areas": null,
            "object_position": null,
            "object_fit": null,
            "grid_auto_columns": null,
            "margin": null,
            "display": null,
            "left": null
          }
        },
        "27f57409f2194b21a53a6864c22eee8d": {
          "model_module": "@jupyter-widgets/controls",
          "model_name": "DescriptionStyleModel",
          "model_module_version": "1.5.0",
          "state": {
            "_view_name": "StyleView",
            "_model_name": "DescriptionStyleModel",
            "description_width": "",
            "_view_module": "@jupyter-widgets/base",
            "_model_module_version": "1.5.0",
            "_view_count": null,
            "_view_module_version": "1.2.0",
            "_model_module": "@jupyter-widgets/controls"
          }
        },
        "1adf9b5265d74421b4d58aa9a6a85f57": {
          "model_module": "@jupyter-widgets/base",
          "model_name": "LayoutModel",
          "model_module_version": "1.2.0",
          "state": {
            "_view_name": "LayoutView",
            "grid_template_rows": null,
            "right": null,
            "justify_content": null,
            "_view_module": "@jupyter-widgets/base",
            "overflow": null,
            "_model_module_version": "1.2.0",
            "_view_count": null,
            "flex_flow": null,
            "width": null,
            "min_width": null,
            "border": null,
            "align_items": null,
            "bottom": null,
            "_model_module": "@jupyter-widgets/base",
            "top": null,
            "grid_column": null,
            "overflow_y": null,
            "overflow_x": null,
            "grid_auto_flow": null,
            "grid_area": null,
            "grid_template_columns": null,
            "flex": null,
            "_model_name": "LayoutModel",
            "justify_items": null,
            "grid_row": null,
            "max_height": null,
            "align_content": null,
            "visibility": null,
            "align_self": null,
            "height": null,
            "min_height": null,
            "padding": null,
            "grid_auto_rows": null,
            "grid_gap": null,
            "max_width": null,
            "order": null,
            "_view_module_version": "1.2.0",
            "grid_template_areas": null,
            "object_position": null,
            "object_fit": null,
            "grid_auto_columns": null,
            "margin": null,
            "display": null,
            "left": null
          }
        },
        "bcd56c7a083d49269970a0152893eada": {
          "model_module": "@jupyter-widgets/controls",
          "model_name": "HBoxModel",
          "model_module_version": "1.5.0",
          "state": {
            "_view_name": "HBoxView",
            "_dom_classes": [],
            "_model_name": "HBoxModel",
            "_view_module": "@jupyter-widgets/controls",
            "_model_module_version": "1.5.0",
            "_view_count": null,
            "_view_module_version": "1.5.0",
            "box_style": "",
            "layout": "IPY_MODEL_74a1a1da0061477c890a5a544108420c",
            "_model_module": "@jupyter-widgets/controls",
            "children": [
              "IPY_MODEL_446316ca86a44ac5bb309e497efa78b4",
              "IPY_MODEL_27027381ae1f4ebc95e39109115131ec",
              "IPY_MODEL_4c1fc1170f9e4a9f956e569542ff37f3"
            ]
          }
        },
        "74a1a1da0061477c890a5a544108420c": {
          "model_module": "@jupyter-widgets/base",
          "model_name": "LayoutModel",
          "model_module_version": "1.2.0",
          "state": {
            "_view_name": "LayoutView",
            "grid_template_rows": null,
            "right": null,
            "justify_content": null,
            "_view_module": "@jupyter-widgets/base",
            "overflow": null,
            "_model_module_version": "1.2.0",
            "_view_count": null,
            "flex_flow": null,
            "width": null,
            "min_width": null,
            "border": null,
            "align_items": null,
            "bottom": null,
            "_model_module": "@jupyter-widgets/base",
            "top": null,
            "grid_column": null,
            "overflow_y": null,
            "overflow_x": null,
            "grid_auto_flow": null,
            "grid_area": null,
            "grid_template_columns": null,
            "flex": null,
            "_model_name": "LayoutModel",
            "justify_items": null,
            "grid_row": null,
            "max_height": null,
            "align_content": null,
            "visibility": null,
            "align_self": null,
            "height": null,
            "min_height": null,
            "padding": null,
            "grid_auto_rows": null,
            "grid_gap": null,
            "max_width": null,
            "order": null,
            "_view_module_version": "1.2.0",
            "grid_template_areas": null,
            "object_position": null,
            "object_fit": null,
            "grid_auto_columns": null,
            "margin": null,
            "display": null,
            "left": null
          }
        },
        "446316ca86a44ac5bb309e497efa78b4": {
          "model_module": "@jupyter-widgets/controls",
          "model_name": "HTMLModel",
          "model_module_version": "1.5.0",
          "state": {
            "_view_name": "HTMLView",
            "style": "IPY_MODEL_d5804d12e9df4253a1dc0c2f1ccb2b62",
            "_dom_classes": [],
            "description": "",
            "_model_name": "HTMLModel",
            "placeholder": "​",
            "_view_module": "@jupyter-widgets/controls",
            "_model_module_version": "1.5.0",
            "value": "Dl Completed...: 100%",
            "_view_count": null,
            "_view_module_version": "1.5.0",
            "description_tooltip": null,
            "_model_module": "@jupyter-widgets/controls",
            "layout": "IPY_MODEL_6df80581d0b1496aa6bd48d145a7a4f3"
          }
        },
        "27027381ae1f4ebc95e39109115131ec": {
          "model_module": "@jupyter-widgets/controls",
          "model_name": "FloatProgressModel",
          "model_module_version": "1.5.0",
          "state": {
            "_view_name": "ProgressView",
            "style": "IPY_MODEL_e712ca5234184b459782a36dc26f218a",
            "_dom_classes": [],
            "description": "",
            "_model_name": "FloatProgressModel",
            "bar_style": "success",
            "max": 34,
            "_view_module": "@jupyter-widgets/controls",
            "_model_module_version": "1.5.0",
            "value": 34,
            "_view_count": null,
            "_view_module_version": "1.5.0",
            "orientation": "horizontal",
            "min": 0,
            "description_tooltip": null,
            "_model_module": "@jupyter-widgets/controls",
            "layout": "IPY_MODEL_eb3f15c923a749cba3808a031ef87f00"
          }
        },
        "4c1fc1170f9e4a9f956e569542ff37f3": {
          "model_module": "@jupyter-widgets/controls",
          "model_name": "HTMLModel",
          "model_module_version": "1.5.0",
          "state": {
            "_view_name": "HTMLView",
            "style": "IPY_MODEL_1871fa5cfb1445a7acaf3bf0efb02629",
            "_dom_classes": [],
            "description": "",
            "_model_name": "HTMLModel",
            "placeholder": "​",
            "_view_module": "@jupyter-widgets/controls",
            "_model_module_version": "1.5.0",
            "value": " 34/34 [00:26&lt;00:00,  1.47 file/s]",
            "_view_count": null,
            "_view_module_version": "1.5.0",
            "description_tooltip": null,
            "_model_module": "@jupyter-widgets/controls",
            "layout": "IPY_MODEL_118af57205b245dc8aece213341d93f0"
          }
        },
        "d5804d12e9df4253a1dc0c2f1ccb2b62": {
          "model_module": "@jupyter-widgets/controls",
          "model_name": "DescriptionStyleModel",
          "model_module_version": "1.5.0",
          "state": {
            "_view_name": "StyleView",
            "_model_name": "DescriptionStyleModel",
            "description_width": "",
            "_view_module": "@jupyter-widgets/base",
            "_model_module_version": "1.5.0",
            "_view_count": null,
            "_view_module_version": "1.2.0",
            "_model_module": "@jupyter-widgets/controls"
          }
        },
        "6df80581d0b1496aa6bd48d145a7a4f3": {
          "model_module": "@jupyter-widgets/base",
          "model_name": "LayoutModel",
          "model_module_version": "1.2.0",
          "state": {
            "_view_name": "LayoutView",
            "grid_template_rows": null,
            "right": null,
            "justify_content": null,
            "_view_module": "@jupyter-widgets/base",
            "overflow": null,
            "_model_module_version": "1.2.0",
            "_view_count": null,
            "flex_flow": null,
            "width": null,
            "min_width": null,
            "border": null,
            "align_items": null,
            "bottom": null,
            "_model_module": "@jupyter-widgets/base",
            "top": null,
            "grid_column": null,
            "overflow_y": null,
            "overflow_x": null,
            "grid_auto_flow": null,
            "grid_area": null,
            "grid_template_columns": null,
            "flex": null,
            "_model_name": "LayoutModel",
            "justify_items": null,
            "grid_row": null,
            "max_height": null,
            "align_content": null,
            "visibility": null,
            "align_self": null,
            "height": null,
            "min_height": null,
            "padding": null,
            "grid_auto_rows": null,
            "grid_gap": null,
            "max_width": null,
            "order": null,
            "_view_module_version": "1.2.0",
            "grid_template_areas": null,
            "object_position": null,
            "object_fit": null,
            "grid_auto_columns": null,
            "margin": null,
            "display": null,
            "left": null
          }
        },
        "e712ca5234184b459782a36dc26f218a": {
          "model_module": "@jupyter-widgets/controls",
          "model_name": "ProgressStyleModel",
          "model_module_version": "1.5.0",
          "state": {
            "_view_name": "StyleView",
            "_model_name": "ProgressStyleModel",
            "description_width": "",
            "_view_module": "@jupyter-widgets/base",
            "_model_module_version": "1.5.0",
            "_view_count": null,
            "_view_module_version": "1.2.0",
            "bar_color": null,
            "_model_module": "@jupyter-widgets/controls"
          }
        },
        "eb3f15c923a749cba3808a031ef87f00": {
          "model_module": "@jupyter-widgets/base",
          "model_name": "LayoutModel",
          "model_module_version": "1.2.0",
          "state": {
            "_view_name": "LayoutView",
            "grid_template_rows": null,
            "right": null,
            "justify_content": null,
            "_view_module": "@jupyter-widgets/base",
            "overflow": null,
            "_model_module_version": "1.2.0",
            "_view_count": null,
            "flex_flow": null,
            "width": null,
            "min_width": null,
            "border": null,
            "align_items": null,
            "bottom": null,
            "_model_module": "@jupyter-widgets/base",
            "top": null,
            "grid_column": null,
            "overflow_y": null,
            "overflow_x": null,
            "grid_auto_flow": null,
            "grid_area": null,
            "grid_template_columns": null,
            "flex": null,
            "_model_name": "LayoutModel",
            "justify_items": null,
            "grid_row": null,
            "max_height": null,
            "align_content": null,
            "visibility": null,
            "align_self": null,
            "height": null,
            "min_height": null,
            "padding": null,
            "grid_auto_rows": null,
            "grid_gap": null,
            "max_width": null,
            "order": null,
            "_view_module_version": "1.2.0",
            "grid_template_areas": null,
            "object_position": null,
            "object_fit": null,
            "grid_auto_columns": null,
            "margin": null,
            "display": null,
            "left": null
          }
        },
        "1871fa5cfb1445a7acaf3bf0efb02629": {
          "model_module": "@jupyter-widgets/controls",
          "model_name": "DescriptionStyleModel",
          "model_module_version": "1.5.0",
          "state": {
            "_view_name": "StyleView",
            "_model_name": "DescriptionStyleModel",
            "description_width": "",
            "_view_module": "@jupyter-widgets/base",
            "_model_module_version": "1.5.0",
            "_view_count": null,
            "_view_module_version": "1.2.0",
            "_model_module": "@jupyter-widgets/controls"
          }
        },
        "118af57205b245dc8aece213341d93f0": {
          "model_module": "@jupyter-widgets/base",
          "model_name": "LayoutModel",
          "model_module_version": "1.2.0",
          "state": {
            "_view_name": "LayoutView",
            "grid_template_rows": null,
            "right": null,
            "justify_content": null,
            "_view_module": "@jupyter-widgets/base",
            "overflow": null,
            "_model_module_version": "1.2.0",
            "_view_count": null,
            "flex_flow": null,
            "width": null,
            "min_width": null,
            "border": null,
            "align_items": null,
            "bottom": null,
            "_model_module": "@jupyter-widgets/base",
            "top": null,
            "grid_column": null,
            "overflow_y": null,
            "overflow_x": null,
            "grid_auto_flow": null,
            "grid_area": null,
            "grid_template_columns": null,
            "flex": null,
            "_model_name": "LayoutModel",
            "justify_items": null,
            "grid_row": null,
            "max_height": null,
            "align_content": null,
            "visibility": null,
            "align_self": null,
            "height": null,
            "min_height": null,
            "padding": null,
            "grid_auto_rows": null,
            "grid_gap": null,
            "max_width": null,
            "order": null,
            "_view_module_version": "1.2.0",
            "grid_template_areas": null,
            "object_position": null,
            "object_fit": null,
            "grid_auto_columns": null,
            "margin": null,
            "display": null,
            "left": null
          }
        }
      }
    }
  },
  "cells": [
    {
      "cell_type": "markdown",
      "source": [
        "# Creating embedding using gensim"
      ],
      "metadata": {
        "id": "i3EVILI8zfgd"
      }
    },
    {
      "cell_type": "code",
      "execution_count": null,
      "source": [
        "!pip install --upgrade gensim"
      ],
      "outputs": [
        {
          "output_type": "stream",
          "name": "stdout",
          "text": [
            "Requirement already satisfied: gensim in /usr/local/lib/python3.7/dist-packages (3.6.0)\n",
            "Collecting gensim\n",
            "  Downloading gensim-4.0.1-cp37-cp37m-manylinux1_x86_64.whl (23.9 MB)\n",
            "\u001b[K     |████████████████████████████████| 23.9 MB 1.3 MB/s \n",
            "\u001b[?25hRequirement already satisfied: smart-open>=1.8.1 in /usr/local/lib/python3.7/dist-packages (from gensim) (5.1.0)\n",
            "Requirement already satisfied: numpy>=1.11.3 in /usr/local/lib/python3.7/dist-packages (from gensim) (1.19.5)\n",
            "Requirement already satisfied: scipy>=0.18.1 in /usr/local/lib/python3.7/dist-packages (from gensim) (1.4.1)\n",
            "Installing collected packages: gensim\n",
            "  Attempting uninstall: gensim\n",
            "    Found existing installation: gensim 3.6.0\n",
            "    Uninstalling gensim-3.6.0:\n",
            "      Successfully uninstalled gensim-3.6.0\n",
            "Successfully installed gensim-4.0.1\n"
          ]
        }
      ],
      "metadata": {
        "colab": {
          "base_uri": "https://localhost:8080/"
        },
        "id": "iLbMBQyezbo1",
        "outputId": "8c203abe-da7f-48e5-8a10-3b2a03f51009"
      }
    },
    {
      "cell_type": "code",
      "execution_count": null,
      "source": [
        "!git clone https://github.com/hgrif/wiki-word2vec.git"
      ],
      "outputs": [
        {
          "output_type": "stream",
          "name": "stdout",
          "text": [
            "Cloning into 'wiki-word2vec'...\n",
            "remote: Enumerating objects: 42, done.\u001b[K\n",
            "remote: Total 42 (delta 0), reused 0 (delta 0), pack-reused 42\u001b[K\n",
            "Unpacking objects: 100% (42/42), done.\n"
          ]
        }
      ],
      "metadata": {
        "colab": {
          "base_uri": "https://localhost:8080/"
        },
        "id": "_PcVwF-hIJ9h",
        "outputId": "ffe84fcd-b77c-4299-8160-294c44aba8de"
      }
    },
    {
      "cell_type": "code",
      "execution_count": null,
      "source": [
        "#Get swahili data\r\n",
        "!mkdir -p data/sw/\r\n",
        "!wget -P data/sw/ https://dumps.wikimedia.org/swwiki/latest/swwiki-latest-pages-articles.xml.bz2\r\n"
      ],
      "outputs": [
        {
          "output_type": "stream",
          "name": "stdout",
          "text": [
            "--2021-08-13 22:46:48--  https://dumps.wikimedia.org/swwiki/latest/swwiki-latest-pages-articles.xml.bz2\n",
            "Resolving dumps.wikimedia.org (dumps.wikimedia.org)... 208.80.154.7, 2620:0:861:1:208:80:154:7\n",
            "Connecting to dumps.wikimedia.org (dumps.wikimedia.org)|208.80.154.7|:443... connected.\n",
            "HTTP request sent, awaiting response... 200 OK\n",
            "Length: 34487959 (33M) [application/octet-stream]\n",
            "Saving to: ‘data/sw/swwiki-latest-pages-articles.xml.bz2’\n",
            "\n",
            "swwiki-latest-pages 100%[===================>]  32.89M  4.90MB/s    in 6.6s    \n",
            "\n",
            "2021-08-13 22:46:55 (4.98 MB/s) - ‘data/sw/swwiki-latest-pages-articles.xml.bz2’ saved [34487959/34487959]\n",
            "\n"
          ]
        }
      ],
      "metadata": {
        "colab": {
          "base_uri": "https://localhost:8080/"
        },
        "id": "goSX-OaZIvd4",
        "outputId": "47a86b55-56c0-45b1-a5ff-62f7283d10cf"
      }
    },
    {
      "cell_type": "code",
      "execution_count": null,
      "source": [
        "import multiprocessing\r\n",
        "from gensim.corpora.wikicorpus import WikiCorpus\r\n",
        "from gensim.models.word2vec import Word2Vec\r\n",
        "\r\n",
        "wiki = WikiCorpus('data/sw/swwiki-latest-pages-articles.xml.bz2', \r\n",
        "                   dictionary={})\r\n",
        "sentences = list(wiki.get_texts())\r\n"
      ],
      "outputs": [
        {
          "output_type": "stream",
          "name": "stderr",
          "text": [
            "/usr/local/lib/python3.7/dist-packages/gensim/similarities/__init__.py:15: UserWarning: The gensim.similarities.levenshtein submodule is disabled, because the optional Levenshtein package <https://pypi.org/project/python-Levenshtein/> is unavailable. Install Levenhstein (e.g. `pip install python-Levenshtein`) to suppress this warning.\n",
            "  warnings.warn(msg)\n"
          ]
        }
      ],
      "metadata": {
        "colab": {
          "base_uri": "https://localhost:8080/"
        },
        "id": "9M1mMY_iI1Vw",
        "outputId": "0395c472-37ac-4318-a51d-0b22d99ba34e"
      }
    },
    {
      "cell_type": "code",
      "execution_count": null,
      "source": [
        "params = {'window': 10, 'min_count': 10, \n",
        "          'workers': max(1, multiprocessing.cpu_count() - 1), 'sample': 1E-3,}"
      ],
      "outputs": [],
      "metadata": {
        "id": "yK2uzqXlI3wI"
      }
    },
    {
      "cell_type": "code",
      "execution_count": null,
      "source": [
        "word2vec = Word2Vec(sentences, **params)\n",
        "word2vec.save(\"word2vec.model\")"
      ],
      "outputs": [],
      "metadata": {
        "id": "VQm_yn6X_PQY"
      }
    },
    {
      "cell_type": "code",
      "execution_count": null,
      "source": [
        "from scipy.spatial.distance import cosine"
      ],
      "outputs": [],
      "metadata": {
        "id": "sL1evBAVtbun"
      }
    },
    {
      "cell_type": "code",
      "execution_count": null,
      "source": [
        "vector_man = word2vec.wv['mwanaume']  # get numpy vector of a word\n",
        "\n",
        "vector_boy = word2vec.wv['mvulana']  # get numpy vector of a word\n",
        "print(\"Cosine between boy and man in \"+ str(5) +\" epochs, is: \" + str(1 - cosine(vector_man, vector_boy)))"
      ],
      "outputs": [
        {
          "output_type": "stream",
          "name": "stdout",
          "text": [
            "Cosine between boy and man in 5 epochs, is: 0.7277519106864929\n"
          ]
        }
      ],
      "metadata": {
        "colab": {
          "base_uri": "https://localhost:8080/"
        },
        "id": "3aqAJuXfCT2g",
        "outputId": "383ee07d-bee3-4ce2-e7d7-448e5a377185"
      }
    },
    {
      "cell_type": "code",
      "execution_count": null,
      "source": [
        "for i in range(10):  \r\n",
        "  word2vec.train(sentences, total_examples=word2vec.corpus_count, epochs=5)\r\n",
        "  vector_man = word2vec.wv['mwanaume']  # get numpy vector of a word\r\n",
        "  vector_boy = word2vec.wv['mvulana']  # get numpy vector of a word\r\n",
        "  print(\"Cosine between boy and man in \"+ str(i*5) +\" epochs, is: \" + str(1 - cosine(vector_man, vector_boy)))"
      ],
      "outputs": [
        {
          "output_type": "stream",
          "name": "stderr",
          "text": [
            "WARNING:gensim.models.word2vec:Effective 'alpha' higher than previous training cycles\n",
            "WARNING:gensim.models.word2vec:Effective 'alpha' higher than previous training cycles\n"
          ]
        },
        {
          "output_type": "stream",
          "name": "stdout",
          "text": [
            "Cosine between boy and man in 0 epochs, is: 0.6671359539031982\n"
          ]
        },
        {
          "output_type": "stream",
          "name": "stderr",
          "text": [
            "WARNING:gensim.models.word2vec:Effective 'alpha' higher than previous training cycles\n"
          ]
        },
        {
          "output_type": "stream",
          "name": "stdout",
          "text": [
            "Cosine between boy and man in 5 epochs, is: 0.6383607387542725\n"
          ]
        },
        {
          "output_type": "stream",
          "name": "stderr",
          "text": [
            "WARNING:gensim.models.word2vec:Effective 'alpha' higher than previous training cycles\n"
          ]
        },
        {
          "output_type": "stream",
          "name": "stdout",
          "text": [
            "Cosine between boy and man in 10 epochs, is: 0.5517609119415283\n"
          ]
        },
        {
          "output_type": "stream",
          "name": "stderr",
          "text": [
            "WARNING:gensim.models.word2vec:Effective 'alpha' higher than previous training cycles\n"
          ]
        },
        {
          "output_type": "stream",
          "name": "stdout",
          "text": [
            "Cosine between boy and man in 15 epochs, is: 0.49562448263168335\n"
          ]
        },
        {
          "output_type": "stream",
          "name": "stderr",
          "text": [
            "WARNING:gensim.models.word2vec:Effective 'alpha' higher than previous training cycles\n"
          ]
        },
        {
          "output_type": "stream",
          "name": "stdout",
          "text": [
            "Cosine between boy and man in 20 epochs, is: 0.49191808700561523\n"
          ]
        },
        {
          "output_type": "stream",
          "name": "stderr",
          "text": [
            "WARNING:gensim.models.word2vec:Effective 'alpha' higher than previous training cycles\n"
          ]
        },
        {
          "output_type": "stream",
          "name": "stdout",
          "text": [
            "Cosine between boy and man in 25 epochs, is: 0.4959765076637268\n"
          ]
        },
        {
          "output_type": "stream",
          "name": "stderr",
          "text": [
            "WARNING:gensim.models.word2vec:Effective 'alpha' higher than previous training cycles\n"
          ]
        },
        {
          "output_type": "stream",
          "name": "stdout",
          "text": [
            "Cosine between boy and man in 30 epochs, is: 0.47750186920166016\n"
          ]
        },
        {
          "output_type": "stream",
          "name": "stderr",
          "text": [
            "WARNING:gensim.models.word2vec:Effective 'alpha' higher than previous training cycles\n"
          ]
        },
        {
          "output_type": "stream",
          "name": "stdout",
          "text": [
            "Cosine between boy and man in 35 epochs, is: 0.48383042216300964\n"
          ]
        },
        {
          "output_type": "stream",
          "name": "stderr",
          "text": [
            "WARNING:gensim.models.word2vec:Effective 'alpha' higher than previous training cycles\n"
          ]
        },
        {
          "output_type": "stream",
          "name": "stdout",
          "text": [
            "Cosine between boy and man in 40 epochs, is: 0.4489280879497528\n",
            "Cosine between boy and man in 45 epochs, is: 0.44285863637924194\n"
          ]
        }
      ],
      "metadata": {
        "colab": {
          "base_uri": "https://localhost:8080/"
        },
        "id": "SmIZvHJU8u9X",
        "outputId": "1da2296c-5e82-4733-8d42-40c33265a92f"
      }
    },
    {
      "cell_type": "code",
      "execution_count": null,
      "source": [
        "word2vec.save(\"word2vec.model\")"
      ],
      "outputs": [],
      "metadata": {
        "id": "FEP6crYBJ4-a"
      }
    },
    {
      "cell_type": "code",
      "execution_count": null,
      "source": [
        "model_swahili = Word2Vec.load(\"word2vec.model\")"
      ],
      "outputs": [],
      "metadata": {
        "id": "Kx0x48OEJ4-b"
      }
    },
    {
      "cell_type": "code",
      "execution_count": null,
      "source": [
        "vector_man = model_swahili.wv['mwanaume']  # get numpy vector of a word\r\n",
        "sims = model_swahili.wv.most_similar('mwanaume', topn=10)  # get other similar words"
      ],
      "outputs": [],
      "metadata": {
        "id": "RnFUM-cTJ4-b"
      }
    },
    {
      "cell_type": "code",
      "execution_count": null,
      "source": [
        "sims"
      ],
      "outputs": [
        {
          "output_type": "execute_result",
          "data": {
            "text/plain": [
              "[('mvulana', 0.7277518510818481),\n",
              " ('msichana', 0.7257815599441528),\n",
              " ('nae', 0.7235980033874512),\n",
              " ('bennet', 0.7187550067901611),\n",
              " ('nusura', 0.7069060802459717),\n",
              " ('dully', 0.6989878416061401),\n",
              " ('wakina', 0.6972491145133972),\n",
              " ('bi', 0.6946593523025513),\n",
              " ('mahaba', 0.6930020451545715),\n",
              " ('aje', 0.6900444626808167)]"
            ]
          },
          "metadata": {
            "tags": []
          },
          "execution_count": 22
        }
      ],
      "metadata": {
        "colab": {
          "base_uri": "https://localhost:8080/"
        },
        "id": "vTeqj0FWIDra",
        "outputId": "d7643cea-6906-4ec9-c0c6-e4709aae9048"
      }
    },
    {
      "cell_type": "code",
      "execution_count": null,
      "source": [
        "vector_boy = model_swahili.wv['mvulana']  # get numpy vector of a word"
      ],
      "outputs": [],
      "metadata": {
        "id": "AnJb6de2IJ4U"
      }
    },
    {
      "cell_type": "code",
      "execution_count": null,
      "source": [
        "#Import cosine distance\r\n",
        "from scipy.spatial.distance import cosine"
      ],
      "outputs": [],
      "metadata": {
        "id": "4STOYjqAF2C4"
      }
    },
    {
      "cell_type": "code",
      "execution_count": null,
      "source": [
        "1 - cosine(vector_man, vector_boy)"
      ],
      "outputs": [
        {
          "output_type": "execute_result",
          "data": {
            "text/plain": [
              "0.7277519106864929"
            ]
          },
          "metadata": {
            "tags": []
          },
          "execution_count": 26
        }
      ],
      "metadata": {
        "colab": {
          "base_uri": "https://localhost:8080/"
        },
        "id": "1T6Lx-9WKBbY",
        "outputId": "36c32355-b944-40d2-ace6-e36943d9778b"
      }
    },
    {
      "cell_type": "code",
      "execution_count": null,
      "source": [
        "vector_queen = model_swahili.wv['malkia']  # get numpy vector of a word\r\n",
        "sims = model_swahili.wv.most_similar('malkia', topn=10)  # get other similar words"
      ],
      "outputs": [],
      "metadata": {
        "id": "AN-E-2ojIS--"
      }
    },
    {
      "cell_type": "code",
      "execution_count": null,
      "source": [
        "sims"
      ],
      "outputs": [
        {
          "output_type": "execute_result",
          "data": {
            "text/plain": [
              "[('mfalme', 0.8444384932518005),\n",
              " ('mtawala', 0.7251664996147156),\n",
              " ('mkabaila', 0.6911629438400269),\n",
              " ('farao', 0.6742110252380371),\n",
              " ('mtemi', 0.6704172492027283),\n",
              " ('mrithi', 0.6614590883255005),\n",
              " ('alirithi', 0.6611064672470093),\n",
              " ('kifalme', 0.6572237610816956),\n",
              " ('alitawala', 0.6564803719520569),\n",
              " ('mke', 0.6315830945968628)]"
            ]
          },
          "metadata": {
            "tags": []
          },
          "execution_count": 28
        }
      ],
      "metadata": {
        "colab": {
          "base_uri": "https://localhost:8080/"
        },
        "id": "WaTs3jdMITcx",
        "outputId": "249df986-d0ed-421d-dfa7-4cc5e9b651b6"
      }
    },
    {
      "cell_type": "code",
      "execution_count": null,
      "source": [
        "#mfalme -> king\r\n",
        "#mtawala -> ruler\r\n",
        "#mkabaila -> landlord\r\n",
        "#farao -> pharaoh\r\n",
        "#mtemi -> spit\r\n",
        "#mrithi -> heir\r\n",
        "#alirithi -> he does not inherit\r\n",
        "#kifalme -> royal\r\n",
        "#alitawala -> he ruled\r\n",
        "#mke -> wife"
      ],
      "outputs": [],
      "metadata": {
        "id": "OtWM_1zCITha"
      }
    },
    {
      "cell_type": "code",
      "execution_count": null,
      "source": [],
      "outputs": [],
      "metadata": {
        "id": "ltjjW1qNITjy"
      }
    },
    {
      "cell_type": "markdown",
      "source": [
        "# Creating a Keras model from embeddings"
      ],
      "metadata": {
        "id": "pZFju4o4bIM9"
      }
    },
    {
      "cell_type": "code",
      "execution_count": null,
      "source": [
        "l = len(list(model_swahili.wv.index_to_key))"
      ],
      "outputs": [],
      "metadata": {
        "id": "atdUjlt4KK8g"
      }
    },
    {
      "cell_type": "code",
      "execution_count": null,
      "source": [
        "# TensorFlow imports\r\n",
        "import tensorflow as tf\r\n",
        "from tensorflow.keras.preprocessing import sequence, text\r\n",
        "from tensorflow.keras import models\r\n",
        "from tensorflow.keras.layers import Dense, Dropout, Embedding, Conv1D, MaxPooling1D, GlobalAveragePooling1D"
      ],
      "outputs": [],
      "metadata": {
        "id": "uGZ6nHDXLkJ6"
      }
    },
    {
      "cell_type": "code",
      "execution_count": null,
      "source": [
        "from keras.preprocessing.text import Tokenizer\r\n",
        "import numpy as np"
      ],
      "outputs": [],
      "metadata": {
        "id": "TtFWNV_cTJk8"
      }
    },
    {
      "cell_type": "code",
      "execution_count": null,
      "source": [
        "all_words = list(model_swahili.wv.index_to_key)"
      ],
      "outputs": [],
      "metadata": {
        "id": "XhLQPia6TOzm"
      }
    },
    {
      "cell_type": "code",
      "execution_count": null,
      "source": [
        "vocab = model_swahili.wv.index_to_key    \r\n",
        "t = Tokenizer()\r\n",
        "\r\n",
        "vocab_size = len(all_words) + 1\r\n",
        "t.fit_on_texts(all_words)\r\n",
        "\r\n",
        "def get_weight_matrix():\r\n",
        "    # define weight matrix dimensions with all 0\r\n",
        "    weight_matrix = np.zeros((vocab_size, model_swahili.vector_size))\r\n",
        "    # step vocab, store vectors using the Tokenizer's integer mapping\r\n",
        "    for i in range(len(all_words)):\r\n",
        "        weight_matrix[i + 1] = model_swahili.wv[all_words[i]]\r\n",
        "    return weight_matrix\r\n",
        "\r\n",
        "embedding_vectors = get_weight_matrix()\r\n",
        "emb_layer = Embedding(vocab_size, output_dim=model_swahili.vector_size, weights=[embedding_vectors], trainable=False)"
      ],
      "outputs": [],
      "metadata": {
        "id": "1WXnwycuQAKi"
      }
    },
    {
      "cell_type": "code",
      "execution_count": null,
      "source": [
        "emb_layer"
      ],
      "outputs": [
        {
          "output_type": "execute_result",
          "data": {
            "text/plain": [
              "<tensorflow.python.keras.layers.embeddings.Embedding at 0x7f2efac368d0>"
            ]
          },
          "metadata": {
            "tags": []
          },
          "execution_count": 34
        }
      ],
      "metadata": {
        "colab": {
          "base_uri": "https://localhost:8080/"
        },
        "id": "-S2Fihh1R8sB",
        "outputId": "b4360aad-c9bb-4ec1-c4a4-1aff98a4d6a3"
      }
    },
    {
      "cell_type": "code",
      "execution_count": null,
      "source": [
        "# Create model instance\n",
        "model = models.Sequential()"
      ],
      "outputs": [],
      "metadata": {
        "id": "AThd-G-yTszy"
      }
    },
    {
      "cell_type": "code",
      "execution_count": null,
      "source": [
        "model.add(emb_layer)"
      ],
      "outputs": [],
      "metadata": {
        "id": "sLBVKgi_T7Ta"
      }
    },
    {
      "cell_type": "code",
      "execution_count": null,
      "source": [
        "model.summary()"
      ],
      "outputs": [
        {
          "output_type": "stream",
          "name": "stdout",
          "text": [
            "Model: \"sequential\"\n",
            "_________________________________________________________________\n",
            "Layer (type)                 Output Shape              Param #   \n",
            "=================================================================\n",
            "embedding (Embedding)        (None, None, 100)         3811500   \n",
            "=================================================================\n",
            "Total params: 3,811,500\n",
            "Trainable params: 0\n",
            "Non-trainable params: 3,811,500\n",
            "_________________________________________________________________\n"
          ]
        }
      ],
      "metadata": {
        "colab": {
          "base_uri": "https://localhost:8080/"
        },
        "id": "arz3QzXtT8X5",
        "outputId": "3bab6190-12d8-45b2-df22-2d4863925c11"
      }
    },
    {
      "cell_type": "code",
      "execution_count": null,
      "source": [
        "t.texts_to_sequences([\"mwanaume\"])"
      ],
      "outputs": [
        {
          "output_type": "execute_result",
          "data": {
            "text/plain": [
              "[[5006]]"
            ]
          },
          "metadata": {
            "tags": []
          },
          "execution_count": 36
        }
      ],
      "metadata": {
        "colab": {
          "base_uri": "https://localhost:8080/"
        },
        "id": "-pbygtJQUKV6",
        "outputId": "83c40bef-2ea0-4966-9fd2-c40a3369b7ae"
      }
    },
    {
      "cell_type": "code",
      "execution_count": null,
      "source": [
        "vector_man = model(t.texts_to_sequences([\"mwanaume\"]))"
      ],
      "outputs": [],
      "metadata": {
        "id": "s53ymWGXT-fx"
      }
    },
    {
      "cell_type": "code",
      "execution_count": null,
      "source": [
        "vector_man.shape"
      ],
      "outputs": [
        {
          "output_type": "execute_result",
          "data": {
            "text/plain": [
              "TensorShape([100])"
            ]
          },
          "metadata": {
            "tags": []
          },
          "execution_count": 43
        }
      ],
      "metadata": {
        "colab": {
          "base_uri": "https://localhost:8080/"
        },
        "id": "HMBVzia7bVWQ",
        "outputId": "66c37d1b-2fc7-4051-d62e-917f9d7803d4"
      }
    },
    {
      "cell_type": "code",
      "execution_count": null,
      "source": [
        "tf.keras.models.save_model(\n",
        "    model, \"./model\")"
      ],
      "outputs": [
        {
          "output_type": "stream",
          "name": "stdout",
          "text": [
            "WARNING:tensorflow:Compiled the loaded model, but the compiled metrics have yet to be built. `model.compile_metrics` will be empty until you train or evaluate the model.\n"
          ]
        },
        {
          "output_type": "stream",
          "name": "stderr",
          "text": [
            "WARNING:tensorflow:Compiled the loaded model, but the compiled metrics have yet to be built. `model.compile_metrics` will be empty until you train or evaluate the model.\n"
          ]
        },
        {
          "output_type": "stream",
          "name": "stdout",
          "text": [
            "INFO:tensorflow:Assets written to: ./model/assets\n"
          ]
        },
        {
          "output_type": "stream",
          "name": "stderr",
          "text": [
            "INFO:tensorflow:Assets written to: ./model/assets\n"
          ]
        }
      ],
      "metadata": {
        "colab": {
          "base_uri": "https://localhost:8080/"
        },
        "id": "LqtXujLzba7u",
        "outputId": "5f7fef2b-d872-468a-83f0-0b86a8a84c7e"
      }
    },
    {
      "cell_type": "code",
      "execution_count": null,
      "source": [
        "!tar -czvf swahili_word2vec.tar.gz -C model ."
      ],
      "outputs": [
        {
          "output_type": "stream",
          "name": "stdout",
          "text": [
            "./\n",
            "./keras_metadata.pb\n",
            "./assets/\n",
            "./variables/\n",
            "./variables/variables.index\n",
            "./variables/variables.data-00000-of-00001\n",
            "./saved_model.pb\n"
          ]
        }
      ],
      "metadata": {
        "colab": {
          "base_uri": "https://localhost:8080/"
        },
        "id": "m2y3MAWjc3Vf",
        "outputId": "33421c80-4315-435e-ca3c-dbf5c11c8b3c"
      }
    },
    {
      "cell_type": "code",
      "execution_count": null,
      "source": [
        "import pickle\n",
        "\n",
        "# saving\n",
        "with open('tokenizer.pkl', 'wb') as handle:\n",
        "    pickle.dump(t, handle, protocol=pickle.HIGHEST_PROTOCOL)"
      ],
      "outputs": [],
      "metadata": {
        "id": "cb6a2g00c6jP"
      }
    },
    {
      "cell_type": "code",
      "execution_count": null,
      "source": [
        "# loading\n",
        "with open('tokenizer.pkl', 'rb') as handle:\n",
        "    tokenizer = pickle.load(handle)"
      ],
      "outputs": [],
      "metadata": {
        "id": "kPXmYs-QfwXs"
      }
    },
    {
      "cell_type": "code",
      "execution_count": null,
      "source": [],
      "outputs": [],
      "metadata": {
        "id": "nIkV0QG0f4JK"
      }
    }
  ]
}