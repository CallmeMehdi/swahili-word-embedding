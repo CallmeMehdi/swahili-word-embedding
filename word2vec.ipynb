{
  "nbformat": 4,
  "nbformat_minor": 0,
  "metadata": {
    "colab": {
      "name": "word2vec.ipynb",
      "provenance": []
    },
    "kernelspec": {
      "display_name": "Python 3",
      "name": "python3"
    },
    "language_info": {
      "name": "python"
    },
    "widgets": {
      "application/vnd.jupyter.widget-state+json": {
        "9a427ffce24d429da2eccd37fcc2622d": {
          "model_module": "@jupyter-widgets/controls",
          "model_name": "HBoxModel",
          "model_module_version": "1.5.0",
          "state": {
            "_view_name": "HBoxView",
            "_dom_classes": [],
            "_model_name": "HBoxModel",
            "_view_module": "@jupyter-widgets/controls",
            "_model_module_version": "1.5.0",
            "_view_count": null,
            "_view_module_version": "1.5.0",
            "box_style": "",
            "layout": "IPY_MODEL_d862214bccaa49029cc7c3fae0a592e7",
            "_model_module": "@jupyter-widgets/controls",
            "children": [
              "IPY_MODEL_b0dc5d2e291340829584cfcc573b4eb2",
              "IPY_MODEL_cdd1cdce3b1444d497a575128d14faa5",
              "IPY_MODEL_1bc04425ae7846ad9dd9f2165cf974c6"
            ]
          }
        },
        "d862214bccaa49029cc7c3fae0a592e7": {
          "model_module": "@jupyter-widgets/base",
          "model_name": "LayoutModel",
          "model_module_version": "1.2.0",
          "state": {
            "_view_name": "LayoutView",
            "grid_template_rows": null,
            "right": null,
            "justify_content": null,
            "_view_module": "@jupyter-widgets/base",
            "overflow": null,
            "_model_module_version": "1.2.0",
            "_view_count": null,
            "flex_flow": null,
            "width": null,
            "min_width": null,
            "border": null,
            "align_items": null,
            "bottom": null,
            "_model_module": "@jupyter-widgets/base",
            "top": null,
            "grid_column": null,
            "overflow_y": null,
            "overflow_x": null,
            "grid_auto_flow": null,
            "grid_area": null,
            "grid_template_columns": null,
            "flex": null,
            "_model_name": "LayoutModel",
            "justify_items": null,
            "grid_row": null,
            "max_height": null,
            "align_content": null,
            "visibility": null,
            "align_self": null,
            "height": null,
            "min_height": null,
            "padding": null,
            "grid_auto_rows": null,
            "grid_gap": null,
            "max_width": null,
            "order": null,
            "_view_module_version": "1.2.0",
            "grid_template_areas": null,
            "object_position": null,
            "object_fit": null,
            "grid_auto_columns": null,
            "margin": null,
            "display": null,
            "left": null
          }
        },
        "b0dc5d2e291340829584cfcc573b4eb2": {
          "model_module": "@jupyter-widgets/controls",
          "model_name": "HTMLModel",
          "model_module_version": "1.5.0",
          "state": {
            "_view_name": "HTMLView",
            "style": "IPY_MODEL_7c8739aacc8d4ce483a323e1eb402f75",
            "_dom_classes": [],
            "description": "",
            "_model_name": "HTMLModel",
            "placeholder": "​",
            "_view_module": "@jupyter-widgets/controls",
            "_model_module_version": "1.5.0",
            "value": "Dl Completed...: 100%",
            "_view_count": null,
            "_view_module_version": "1.5.0",
            "description_tooltip": null,
            "_model_module": "@jupyter-widgets/controls",
            "layout": "IPY_MODEL_d7df26a5e5e04472908f1073df135ac6"
          }
        },
        "cdd1cdce3b1444d497a575128d14faa5": {
          "model_module": "@jupyter-widgets/controls",
          "model_name": "FloatProgressModel",
          "model_module_version": "1.5.0",
          "state": {
            "_view_name": "ProgressView",
            "style": "IPY_MODEL_3b9252469ebb41f9ae3cf30a58677d3f",
            "_dom_classes": [],
            "description": "",
            "_model_name": "FloatProgressModel",
            "bar_style": "success",
            "max": 3,
            "_view_module": "@jupyter-widgets/controls",
            "_model_module_version": "1.5.0",
            "value": 3,
            "_view_count": null,
            "_view_module_version": "1.5.0",
            "orientation": "horizontal",
            "min": 0,
            "description_tooltip": null,
            "_model_module": "@jupyter-widgets/controls",
            "layout": "IPY_MODEL_c9d3076192034639aa96ffd0500fd4b5"
          }
        },
        "1bc04425ae7846ad9dd9f2165cf974c6": {
          "model_module": "@jupyter-widgets/controls",
          "model_name": "HTMLModel",
          "model_module_version": "1.5.0",
          "state": {
            "_view_name": "HTMLView",
            "style": "IPY_MODEL_27f57409f2194b21a53a6864c22eee8d",
            "_dom_classes": [],
            "description": "",
            "_model_name": "HTMLModel",
            "placeholder": "​",
            "_view_module": "@jupyter-widgets/controls",
            "_model_module_version": "1.5.0",
            "value": " 3/3 [00:01&lt;00:00,  1.94 file/s]",
            "_view_count": null,
            "_view_module_version": "1.5.0",
            "description_tooltip": null,
            "_model_module": "@jupyter-widgets/controls",
            "layout": "IPY_MODEL_1adf9b5265d74421b4d58aa9a6a85f57"
          }
        },
        "7c8739aacc8d4ce483a323e1eb402f75": {
          "model_module": "@jupyter-widgets/controls",
          "model_name": "DescriptionStyleModel",
          "model_module_version": "1.5.0",
          "state": {
            "_view_name": "StyleView",
            "_model_name": "DescriptionStyleModel",
            "description_width": "",
            "_view_module": "@jupyter-widgets/base",
            "_model_module_version": "1.5.0",
            "_view_count": null,
            "_view_module_version": "1.2.0",
            "_model_module": "@jupyter-widgets/controls"
          }
        },
        "d7df26a5e5e04472908f1073df135ac6": {
          "model_module": "@jupyter-widgets/base",
          "model_name": "LayoutModel",
          "model_module_version": "1.2.0",
          "state": {
            "_view_name": "LayoutView",
            "grid_template_rows": null,
            "right": null,
            "justify_content": null,
            "_view_module": "@jupyter-widgets/base",
            "overflow": null,
            "_model_module_version": "1.2.0",
            "_view_count": null,
            "flex_flow": null,
            "width": null,
            "min_width": null,
            "border": null,
            "align_items": null,
            "bottom": null,
            "_model_module": "@jupyter-widgets/base",
            "top": null,
            "grid_column": null,
            "overflow_y": null,
            "overflow_x": null,
            "grid_auto_flow": null,
            "grid_area": null,
            "grid_template_columns": null,
            "flex": null,
            "_model_name": "LayoutModel",
            "justify_items": null,
            "grid_row": null,
            "max_height": null,
            "align_content": null,
            "visibility": null,
            "align_self": null,
            "height": null,
            "min_height": null,
            "padding": null,
            "grid_auto_rows": null,
            "grid_gap": null,
            "max_width": null,
            "order": null,
            "_view_module_version": "1.2.0",
            "grid_template_areas": null,
            "object_position": null,
            "object_fit": null,
            "grid_auto_columns": null,
            "margin": null,
            "display": null,
            "left": null
          }
        },
        "3b9252469ebb41f9ae3cf30a58677d3f": {
          "model_module": "@jupyter-widgets/controls",
          "model_name": "ProgressStyleModel",
          "model_module_version": "1.5.0",
          "state": {
            "_view_name": "StyleView",
            "_model_name": "ProgressStyleModel",
            "description_width": "",
            "_view_module": "@jupyter-widgets/base",
            "_model_module_version": "1.5.0",
            "_view_count": null,
            "_view_module_version": "1.2.0",
            "bar_color": null,
            "_model_module": "@jupyter-widgets/controls"
          }
        },
        "c9d3076192034639aa96ffd0500fd4b5": {
          "model_module": "@jupyter-widgets/base",
          "model_name": "LayoutModel",
          "model_module_version": "1.2.0",
          "state": {
            "_view_name": "LayoutView",
            "grid_template_rows": null,
            "right": null,
            "justify_content": null,
            "_view_module": "@jupyter-widgets/base",
            "overflow": null,
            "_model_module_version": "1.2.0",
            "_view_count": null,
            "flex_flow": null,
            "width": null,
            "min_width": null,
            "border": null,
            "align_items": null,
            "bottom": null,
            "_model_module": "@jupyter-widgets/base",
            "top": null,
            "grid_column": null,
            "overflow_y": null,
            "overflow_x": null,
            "grid_auto_flow": null,
            "grid_area": null,
            "grid_template_columns": null,
            "flex": null,
            "_model_name": "LayoutModel",
            "justify_items": null,
            "grid_row": null,
            "max_height": null,
            "align_content": null,
            "visibility": null,
            "align_self": null,
            "height": null,
            "min_height": null,
            "padding": null,
            "grid_auto_rows": null,
            "grid_gap": null,
            "max_width": null,
            "order": null,
            "_view_module_version": "1.2.0",
            "grid_template_areas": null,
            "object_position": null,
            "object_fit": null,
            "grid_auto_columns": null,
            "margin": null,
            "display": null,
            "left": null
          }
        },
        "27f57409f2194b21a53a6864c22eee8d": {
          "model_module": "@jupyter-widgets/controls",
          "model_name": "DescriptionStyleModel",
          "model_module_version": "1.5.0",
          "state": {
            "_view_name": "StyleView",
            "_model_name": "DescriptionStyleModel",
            "description_width": "",
            "_view_module": "@jupyter-widgets/base",
            "_model_module_version": "1.5.0",
            "_view_count": null,
            "_view_module_version": "1.2.0",
            "_model_module": "@jupyter-widgets/controls"
          }
        },
        "1adf9b5265d74421b4d58aa9a6a85f57": {
          "model_module": "@jupyter-widgets/base",
          "model_name": "LayoutModel",
          "model_module_version": "1.2.0",
          "state": {
            "_view_name": "LayoutView",
            "grid_template_rows": null,
            "right": null,
            "justify_content": null,
            "_view_module": "@jupyter-widgets/base",
            "overflow": null,
            "_model_module_version": "1.2.0",
            "_view_count": null,
            "flex_flow": null,
            "width": null,
            "min_width": null,
            "border": null,
            "align_items": null,
            "bottom": null,
            "_model_module": "@jupyter-widgets/base",
            "top": null,
            "grid_column": null,
            "overflow_y": null,
            "overflow_x": null,
            "grid_auto_flow": null,
            "grid_area": null,
            "grid_template_columns": null,
            "flex": null,
            "_model_name": "LayoutModel",
            "justify_items": null,
            "grid_row": null,
            "max_height": null,
            "align_content": null,
            "visibility": null,
            "align_self": null,
            "height": null,
            "min_height": null,
            "padding": null,
            "grid_auto_rows": null,
            "grid_gap": null,
            "max_width": null,
            "order": null,
            "_view_module_version": "1.2.0",
            "grid_template_areas": null,
            "object_position": null,
            "object_fit": null,
            "grid_auto_columns": null,
            "margin": null,
            "display": null,
            "left": null
          }
        },
        "bcd56c7a083d49269970a0152893eada": {
          "model_module": "@jupyter-widgets/controls",
          "model_name": "HBoxModel",
          "model_module_version": "1.5.0",
          "state": {
            "_view_name": "HBoxView",
            "_dom_classes": [],
            "_model_name": "HBoxModel",
            "_view_module": "@jupyter-widgets/controls",
            "_model_module_version": "1.5.0",
            "_view_count": null,
            "_view_module_version": "1.5.0",
            "box_style": "",
            "layout": "IPY_MODEL_74a1a1da0061477c890a5a544108420c",
            "_model_module": "@jupyter-widgets/controls",
            "children": [
              "IPY_MODEL_446316ca86a44ac5bb309e497efa78b4",
              "IPY_MODEL_27027381ae1f4ebc95e39109115131ec",
              "IPY_MODEL_4c1fc1170f9e4a9f956e569542ff37f3"
            ]
          }
        },
        "74a1a1da0061477c890a5a544108420c": {
          "model_module": "@jupyter-widgets/base",
          "model_name": "LayoutModel",
          "model_module_version": "1.2.0",
          "state": {
            "_view_name": "LayoutView",
            "grid_template_rows": null,
            "right": null,
            "justify_content": null,
            "_view_module": "@jupyter-widgets/base",
            "overflow": null,
            "_model_module_version": "1.2.0",
            "_view_count": null,
            "flex_flow": null,
            "width": null,
            "min_width": null,
            "border": null,
            "align_items": null,
            "bottom": null,
            "_model_module": "@jupyter-widgets/base",
            "top": null,
            "grid_column": null,
            "overflow_y": null,
            "overflow_x": null,
            "grid_auto_flow": null,
            "grid_area": null,
            "grid_template_columns": null,
            "flex": null,
            "_model_name": "LayoutModel",
            "justify_items": null,
            "grid_row": null,
            "max_height": null,
            "align_content": null,
            "visibility": null,
            "align_self": null,
            "height": null,
            "min_height": null,
            "padding": null,
            "grid_auto_rows": null,
            "grid_gap": null,
            "max_width": null,
            "order": null,
            "_view_module_version": "1.2.0",
            "grid_template_areas": null,
            "object_position": null,
            "object_fit": null,
            "grid_auto_columns": null,
            "margin": null,
            "display": null,
            "left": null
          }
        },
        "446316ca86a44ac5bb309e497efa78b4": {
          "model_module": "@jupyter-widgets/controls",
          "model_name": "HTMLModel",
          "model_module_version": "1.5.0",
          "state": {
            "_view_name": "HTMLView",
            "style": "IPY_MODEL_d5804d12e9df4253a1dc0c2f1ccb2b62",
            "_dom_classes": [],
            "description": "",
            "_model_name": "HTMLModel",
            "placeholder": "​",
            "_view_module": "@jupyter-widgets/controls",
            "_model_module_version": "1.5.0",
            "value": "Dl Completed...: 100%",
            "_view_count": null,
            "_view_module_version": "1.5.0",
            "description_tooltip": null,
            "_model_module": "@jupyter-widgets/controls",
            "layout": "IPY_MODEL_6df80581d0b1496aa6bd48d145a7a4f3"
          }
        },
        "27027381ae1f4ebc95e39109115131ec": {
          "model_module": "@jupyter-widgets/controls",
          "model_name": "FloatProgressModel",
          "model_module_version": "1.5.0",
          "state": {
            "_view_name": "ProgressView",
            "style": "IPY_MODEL_e712ca5234184b459782a36dc26f218a",
            "_dom_classes": [],
            "description": "",
            "_model_name": "FloatProgressModel",
            "bar_style": "success",
            "max": 34,
            "_view_module": "@jupyter-widgets/controls",
            "_model_module_version": "1.5.0",
            "value": 34,
            "_view_count": null,
            "_view_module_version": "1.5.0",
            "orientation": "horizontal",
            "min": 0,
            "description_tooltip": null,
            "_model_module": "@jupyter-widgets/controls",
            "layout": "IPY_MODEL_eb3f15c923a749cba3808a031ef87f00"
          }
        },
        "4c1fc1170f9e4a9f956e569542ff37f3": {
          "model_module": "@jupyter-widgets/controls",
          "model_name": "HTMLModel",
          "model_module_version": "1.5.0",
          "state": {
            "_view_name": "HTMLView",
            "style": "IPY_MODEL_1871fa5cfb1445a7acaf3bf0efb02629",
            "_dom_classes": [],
            "description": "",
            "_model_name": "HTMLModel",
            "placeholder": "​",
            "_view_module": "@jupyter-widgets/controls",
            "_model_module_version": "1.5.0",
            "value": " 34/34 [00:26&lt;00:00,  1.47 file/s]",
            "_view_count": null,
            "_view_module_version": "1.5.0",
            "description_tooltip": null,
            "_model_module": "@jupyter-widgets/controls",
            "layout": "IPY_MODEL_118af57205b245dc8aece213341d93f0"
          }
        },
        "d5804d12e9df4253a1dc0c2f1ccb2b62": {
          "model_module": "@jupyter-widgets/controls",
          "model_name": "DescriptionStyleModel",
          "model_module_version": "1.5.0",
          "state": {
            "_view_name": "StyleView",
            "_model_name": "DescriptionStyleModel",
            "description_width": "",
            "_view_module": "@jupyter-widgets/base",
            "_model_module_version": "1.5.0",
            "_view_count": null,
            "_view_module_version": "1.2.0",
            "_model_module": "@jupyter-widgets/controls"
          }
        },
        "6df80581d0b1496aa6bd48d145a7a4f3": {
          "model_module": "@jupyter-widgets/base",
          "model_name": "LayoutModel",
          "model_module_version": "1.2.0",
          "state": {
            "_view_name": "LayoutView",
            "grid_template_rows": null,
            "right": null,
            "justify_content": null,
            "_view_module": "@jupyter-widgets/base",
            "overflow": null,
            "_model_module_version": "1.2.0",
            "_view_count": null,
            "flex_flow": null,
            "width": null,
            "min_width": null,
            "border": null,
            "align_items": null,
            "bottom": null,
            "_model_module": "@jupyter-widgets/base",
            "top": null,
            "grid_column": null,
            "overflow_y": null,
            "overflow_x": null,
            "grid_auto_flow": null,
            "grid_area": null,
            "grid_template_columns": null,
            "flex": null,
            "_model_name": "LayoutModel",
            "justify_items": null,
            "grid_row": null,
            "max_height": null,
            "align_content": null,
            "visibility": null,
            "align_self": null,
            "height": null,
            "min_height": null,
            "padding": null,
            "grid_auto_rows": null,
            "grid_gap": null,
            "max_width": null,
            "order": null,
            "_view_module_version": "1.2.0",
            "grid_template_areas": null,
            "object_position": null,
            "object_fit": null,
            "grid_auto_columns": null,
            "margin": null,
            "display": null,
            "left": null
          }
        },
        "e712ca5234184b459782a36dc26f218a": {
          "model_module": "@jupyter-widgets/controls",
          "model_name": "ProgressStyleModel",
          "model_module_version": "1.5.0",
          "state": {
            "_view_name": "StyleView",
            "_model_name": "ProgressStyleModel",
            "description_width": "",
            "_view_module": "@jupyter-widgets/base",
            "_model_module_version": "1.5.0",
            "_view_count": null,
            "_view_module_version": "1.2.0",
            "bar_color": null,
            "_model_module": "@jupyter-widgets/controls"
          }
        },
        "eb3f15c923a749cba3808a031ef87f00": {
          "model_module": "@jupyter-widgets/base",
          "model_name": "LayoutModel",
          "model_module_version": "1.2.0",
          "state": {
            "_view_name": "LayoutView",
            "grid_template_rows": null,
            "right": null,
            "justify_content": null,
            "_view_module": "@jupyter-widgets/base",
            "overflow": null,
            "_model_module_version": "1.2.0",
            "_view_count": null,
            "flex_flow": null,
            "width": null,
            "min_width": null,
            "border": null,
            "align_items": null,
            "bottom": null,
            "_model_module": "@jupyter-widgets/base",
            "top": null,
            "grid_column": null,
            "overflow_y": null,
            "overflow_x": null,
            "grid_auto_flow": null,
            "grid_area": null,
            "grid_template_columns": null,
            "flex": null,
            "_model_name": "LayoutModel",
            "justify_items": null,
            "grid_row": null,
            "max_height": null,
            "align_content": null,
            "visibility": null,
            "align_self": null,
            "height": null,
            "min_height": null,
            "padding": null,
            "grid_auto_rows": null,
            "grid_gap": null,
            "max_width": null,
            "order": null,
            "_view_module_version": "1.2.0",
            "grid_template_areas": null,
            "object_position": null,
            "object_fit": null,
            "grid_auto_columns": null,
            "margin": null,
            "display": null,
            "left": null
          }
        },
        "1871fa5cfb1445a7acaf3bf0efb02629": {
          "model_module": "@jupyter-widgets/controls",
          "model_name": "DescriptionStyleModel",
          "model_module_version": "1.5.0",
          "state": {
            "_view_name": "StyleView",
            "_model_name": "DescriptionStyleModel",
            "description_width": "",
            "_view_module": "@jupyter-widgets/base",
            "_model_module_version": "1.5.0",
            "_view_count": null,
            "_view_module_version": "1.2.0",
            "_model_module": "@jupyter-widgets/controls"
          }
        },
        "118af57205b245dc8aece213341d93f0": {
          "model_module": "@jupyter-widgets/base",
          "model_name": "LayoutModel",
          "model_module_version": "1.2.0",
          "state": {
            "_view_name": "LayoutView",
            "grid_template_rows": null,
            "right": null,
            "justify_content": null,
            "_view_module": "@jupyter-widgets/base",
            "overflow": null,
            "_model_module_version": "1.2.0",
            "_view_count": null,
            "flex_flow": null,
            "width": null,
            "min_width": null,
            "border": null,
            "align_items": null,
            "bottom": null,
            "_model_module": "@jupyter-widgets/base",
            "top": null,
            "grid_column": null,
            "overflow_y": null,
            "overflow_x": null,
            "grid_auto_flow": null,
            "grid_area": null,
            "grid_template_columns": null,
            "flex": null,
            "_model_name": "LayoutModel",
            "justify_items": null,
            "grid_row": null,
            "max_height": null,
            "align_content": null,
            "visibility": null,
            "align_self": null,
            "height": null,
            "min_height": null,
            "padding": null,
            "grid_auto_rows": null,
            "grid_gap": null,
            "max_width": null,
            "order": null,
            "_view_module_version": "1.2.0",
            "grid_template_areas": null,
            "object_position": null,
            "object_fit": null,
            "grid_auto_columns": null,
            "margin": null,
            "display": null,
            "left": null
          }
        }
      }
    }
  },
  "cells": [
    {
      "cell_type": "markdown",
      "metadata": {
        "id": "yqHxsrM9WhB4"
      },
      "source": [
        "# Load data"
      ]
    },
    {
      "cell_type": "code",
      "metadata": {
        "id": "JikHwVp7hK5r"
      },
      "source": [
        "import tensorflow_hub as hub"
      ],
      "execution_count": null,
      "outputs": []
    },
    {
      "cell_type": "code",
      "metadata": {
        "id": "9mRUQOM1lwWQ"
      },
      "source": [
        "import tensorflow_datasets as tfds"
      ],
      "execution_count": null,
      "outputs": []
    },
    {
      "cell_type": "code",
      "metadata": {
        "colab": {
          "base_uri": "https://localhost:8080/",
          "height": 185,
          "referenced_widgets": [
            "9a427ffce24d429da2eccd37fcc2622d",
            "d862214bccaa49029cc7c3fae0a592e7",
            "b0dc5d2e291340829584cfcc573b4eb2",
            "cdd1cdce3b1444d497a575128d14faa5",
            "1bc04425ae7846ad9dd9f2165cf974c6",
            "7c8739aacc8d4ce483a323e1eb402f75",
            "d7df26a5e5e04472908f1073df135ac6",
            "3b9252469ebb41f9ae3cf30a58677d3f",
            "c9d3076192034639aa96ffd0500fd4b5",
            "27f57409f2194b21a53a6864c22eee8d",
            "1adf9b5265d74421b4d58aa9a6a85f57"
          ]
        },
        "id": "I-z2QDSHpkh4",
        "outputId": "e7d5851e-95f8-4411-bf8c-2bec2ebfe515"
      },
      "source": [
        "ds = tfds.load(\"wikipedia/20190301.sw\")"
      ],
      "execution_count": null,
      "outputs": [
        {
          "output_type": "stream",
          "text": [
            "\u001b[1mDownloading and preparing dataset wikipedia/20190301.sw/1.0.0 (download: 27.60 MiB, generated: Unknown size, total: 27.60 MiB) to /root/tensorflow_datasets/wikipedia/20190301.sw/1.0.0...\u001b[0m\n"
          ],
          "name": "stdout"
        },
        {
          "output_type": "stream",
          "text": [
            "WARNING:absl:Dataset wikipedia is hosted on GCS. It will automatically be downloaded to your\n",
            "local data directory. If you'd instead prefer to read directly from our public\n",
            "GCS bucket (recommended if you're running on GCP), you can instead pass\n",
            "`try_gcs=True` to `tfds.load` or set `data_dir=gs://tfds-data/datasets`.\n",
            "\n"
          ],
          "name": "stderr"
        },
        {
          "output_type": "display_data",
          "data": {
            "application/vnd.jupyter.widget-view+json": {
              "model_id": "9a427ffce24d429da2eccd37fcc2622d",
              "version_minor": 0,
              "version_major": 2
            },
            "text/plain": [
              "Dl Completed...:   0%|          | 0/3 [00:00<?, ? file/s]"
            ]
          },
          "metadata": {
            "tags": []
          }
        },
        {
          "output_type": "stream",
          "text": [
            "\n",
            "\u001b[1mDataset wikipedia downloaded and prepared to /root/tensorflow_datasets/wikipedia/20190301.sw/1.0.0. Subsequent calls will reuse this data.\u001b[0m\n"
          ],
          "name": "stdout"
        }
      ]
    },
    {
      "cell_type": "code",
      "metadata": {
        "colab": {
          "base_uri": "https://localhost:8080/"
        },
        "id": "I6aROnblpr4o",
        "outputId": "13861fdc-7894-4fed-d725-c00ec1047cd3"
      },
      "source": [
        "ds"
      ],
      "execution_count": null,
      "outputs": [
        {
          "output_type": "execute_result",
          "data": {
            "text/plain": [
              "{'train': <PrefetchDataset shapes: {text: (), title: ()}, types: {text: tf.string, title: tf.string}>}"
            ]
          },
          "metadata": {
            "tags": []
          },
          "execution_count": 4
        }
      ]
    },
    {
      "cell_type": "code",
      "metadata": {
        "id": "pxT1EKyvpvmC"
      },
      "source": [
        "df = tfds.as_dataframe(ds[\"train\"].take(-1))"
      ],
      "execution_count": null,
      "outputs": []
    },
    {
      "cell_type": "code",
      "metadata": {
        "colab": {
          "base_uri": "https://localhost:8080/"
        },
        "id": "th9bDaBjLzk0",
        "outputId": "7f3d0cdb-39dd-40f7-8104-2718bd3a9ae1"
      },
      "source": [
        "df.shape"
      ],
      "execution_count": null,
      "outputs": [
        {
          "output_type": "execute_result",
          "data": {
            "text/plain": [
              "(48434, 2)"
            ]
          },
          "metadata": {
            "tags": []
          },
          "execution_count": 6
        }
      ]
    },
    {
      "cell_type": "code",
      "metadata": {
        "id": "ptdYKx8AMRhu"
      },
      "source": [
        "df[\"text\"].to_csv(r'data.txt', header=None, index=None, sep=' ', mode='a')"
      ],
      "execution_count": null,
      "outputs": []
    },
    {
      "cell_type": "code",
      "metadata": {
        "colab": {
          "base_uri": "https://localhost:8080/",
          "height": 204
        },
        "id": "MQgzYxDWp-Im",
        "outputId": "85d7fe75-4003-4f43-ecbf-561ad08bdfe1"
      },
      "source": [
        "df.head()"
      ],
      "execution_count": null,
      "outputs": [
        {
          "output_type": "execute_result",
          "data": {
            "text/html": [
              "<div>\n",
              "<style scoped>\n",
              "    .dataframe tbody tr th:only-of-type {\n",
              "        vertical-align: middle;\n",
              "    }\n",
              "\n",
              "    .dataframe tbody tr th {\n",
              "        vertical-align: top;\n",
              "    }\n",
              "\n",
              "    .dataframe thead th {\n",
              "        text-align: right;\n",
              "    }\n",
              "</style>\n",
              "<table border=\"1\" class=\"dataframe\">\n",
              "  <thead>\n",
              "    <tr style=\"text-align: right;\">\n",
              "      <th></th>\n",
              "      <th>text</th>\n",
              "      <th>title</th>\n",
              "    </tr>\n",
              "  </thead>\n",
              "  <tbody>\n",
              "    <tr>\n",
              "      <th>0</th>\n",
              "      <td>b'Lasse Sch\\xc3\\xb6ne (alizaliwa 27 Mei 1986) ...</td>\n",
              "      <td>b'Lasse Sch\\xc3\\xb6ne'</td>\n",
              "    </tr>\n",
              "    <tr>\n",
              "      <th>1</th>\n",
              "      <td>b'MQ au mq ni kifupi cha:\\n\\nKodi \\n Kodi ya I...</td>\n",
              "      <td>b'MQ'</td>\n",
              "    </tr>\n",
              "    <tr>\n",
              "      <th>2</th>\n",
              "      <td>b\"Kitalondo'  ni lugha ya Kiaustronesia nchini...</td>\n",
              "      <td>b\"Kitalondo'\"</td>\n",
              "    </tr>\n",
              "    <tr>\n",
              "      <th>3</th>\n",
              "      <td>b'Mkoani ni mji kwenye kisiwa cha Pemba, Tanza...</td>\n",
              "      <td>b'Mkoani'</td>\n",
              "    </tr>\n",
              "    <tr>\n",
              "      <th>4</th>\n",
              "      <td>b'right|thumb|Maeneo ya lugha za asili karibu ...</td>\n",
              "      <td>b'Kinyigina'</td>\n",
              "    </tr>\n",
              "  </tbody>\n",
              "</table>\n",
              "</div>"
            ],
            "text/plain": [
              "                                                text                   title\n",
              "0  b'Lasse Sch\\xc3\\xb6ne (alizaliwa 27 Mei 1986) ...  b'Lasse Sch\\xc3\\xb6ne'\n",
              "1  b'MQ au mq ni kifupi cha:\\n\\nKodi \\n Kodi ya I...                   b'MQ'\n",
              "2  b\"Kitalondo'  ni lugha ya Kiaustronesia nchini...           b\"Kitalondo'\"\n",
              "3  b'Mkoani ni mji kwenye kisiwa cha Pemba, Tanza...               b'Mkoani'\n",
              "4  b'right|thumb|Maeneo ya lugha za asili karibu ...            b'Kinyigina'"
            ]
          },
          "metadata": {
            "tags": []
          },
          "execution_count": 8
        }
      ]
    },
    {
      "cell_type": "code",
      "metadata": {
        "colab": {
          "base_uri": "https://localhost:8080/"
        },
        "id": "OSu4Dk-EISDE",
        "outputId": "07d21dea-a293-41ce-fd74-d8da129dadb2"
      },
      "source": [
        "df.loc[0,\"text\"] + df.loc[1,\"text\"]"
      ],
      "execution_count": null,
      "outputs": [
        {
          "output_type": "execute_result",
          "data": {
            "text/plain": [
              "b'Lasse Sch\\xc3\\xb6ne (alizaliwa 27 Mei 1986) ni mchezaji wa soka wa Denmark ambaye sasa anacheza katika klabu ya Uholanzi  iitwayo Ajax na timu ya taifa ya Denmark kama kiungo au winga.\\n\\nSch\\xc3\\xb6ne ametumia kazi yake yote ya kitaaluma nchini Uholanzi, na klabu ya De Graafschap, NEC na Ajax, akifunga magoli zaidi ya 60 ya ligi.\\nSch\\xc3\\xb6ne alifunga bao la kwanza la kimataifa mwaka 2009 na alikuwa sehemu ya kikosi cha kwanza cha Denmark katika UEFA Euro 2012 na Kombe la Dunia la FIFA 2018.\\n\\nJamii:waliozaliwa 1986\\nJamii:watu walio hai\\nJamii:Wachezaji mpira wa DenmarkMQ au mq ni kifupi cha:\\n\\nKodi \\n Kodi ya IATA ya American Eagle Airlines, USA\\n Kodi ya ISO 3166-1 ya nchi ya Martinique\\n\\nSayansi na teknolojia\\n\\nMahali\\n\\nMashirika na makampuni\\n\\nMichezo\\n\\nWatu \\n\\nJamii:Kifupi'"
            ]
          },
          "metadata": {
            "tags": []
          },
          "execution_count": 9
        }
      ]
    },
    {
      "cell_type": "code",
      "metadata": {
        "colab": {
          "base_uri": "https://localhost:8080/",
          "height": 185,
          "referenced_widgets": [
            "bcd56c7a083d49269970a0152893eada",
            "74a1a1da0061477c890a5a544108420c",
            "446316ca86a44ac5bb309e497efa78b4",
            "27027381ae1f4ebc95e39109115131ec",
            "4c1fc1170f9e4a9f956e569542ff37f3",
            "d5804d12e9df4253a1dc0c2f1ccb2b62",
            "6df80581d0b1496aa6bd48d145a7a4f3",
            "e712ca5234184b459782a36dc26f218a",
            "eb3f15c923a749cba3808a031ef87f00",
            "1871fa5cfb1445a7acaf3bf0efb02629",
            "118af57205b245dc8aece213341d93f0"
          ]
        },
        "id": "Gw5b-nDYqCQ_",
        "outputId": "134400ef-0e0b-477f-9e84-a24a60ece430"
      },
      "source": [
        "ds = tfds.load(\"wikipedia/20200301.ar\")"
      ],
      "execution_count": null,
      "outputs": [
        {
          "output_type": "stream",
          "text": [
            "WARNING:absl:Dataset wikipedia is hosted on GCS. It will automatically be downloaded to your\n",
            "local data directory. If you'd instead prefer to read directly from our public\n",
            "GCS bucket (recommended if you're running on GCP), you can instead pass\n",
            "`try_gcs=True` to `tfds.load` or set `data_dir=gs://tfds-data/datasets`.\n",
            "\n"
          ],
          "name": "stderr"
        },
        {
          "output_type": "stream",
          "text": [
            "\u001b[1mDownloading and preparing dataset wikipedia/20200301.ar/1.0.0 (download: 1.08 GiB, generated: 2.09 GiB, total: 3.16 GiB) to /root/tensorflow_datasets/wikipedia/20200301.ar/1.0.0...\u001b[0m\n"
          ],
          "name": "stdout"
        },
        {
          "output_type": "display_data",
          "data": {
            "application/vnd.jupyter.widget-view+json": {
              "model_id": "bcd56c7a083d49269970a0152893eada",
              "version_minor": 0,
              "version_major": 2
            },
            "text/plain": [
              "Dl Completed...:   0%|          | 0/34 [00:00<?, ? file/s]"
            ]
          },
          "metadata": {
            "tags": []
          }
        },
        {
          "output_type": "stream",
          "text": [
            "\n",
            "\u001b[1mDataset wikipedia downloaded and prepared to /root/tensorflow_datasets/wikipedia/20200301.ar/1.0.0. Subsequent calls will reuse this data.\u001b[0m\n"
          ],
          "name": "stdout"
        }
      ]
    },
    {
      "cell_type": "code",
      "metadata": {
        "id": "2_bOEpmPqLk3"
      },
      "source": [
        "df = tfds.as_dataframe(ds[\"train\"].take(100))"
      ],
      "execution_count": null,
      "outputs": []
    },
    {
      "cell_type": "code",
      "metadata": {
        "colab": {
          "base_uri": "https://localhost:8080/",
          "height": 204
        },
        "id": "JIxHhYFrxxRP",
        "outputId": "69f9b842-c7bf-424f-cff9-45520ec24975"
      },
      "source": [
        "df.head()"
      ],
      "execution_count": null,
      "outputs": [
        {
          "output_type": "execute_result",
          "data": {
            "text/html": [
              "<div>\n",
              "<style scoped>\n",
              "    .dataframe tbody tr th:only-of-type {\n",
              "        vertical-align: middle;\n",
              "    }\n",
              "\n",
              "    .dataframe tbody tr th {\n",
              "        vertical-align: top;\n",
              "    }\n",
              "\n",
              "    .dataframe thead th {\n",
              "        text-align: right;\n",
              "    }\n",
              "</style>\n",
              "<table border=\"1\" class=\"dataframe\">\n",
              "  <thead>\n",
              "    <tr style=\"text-align: right;\">\n",
              "      <th></th>\n",
              "      <th>text</th>\n",
              "      <th>title</th>\n",
              "    </tr>\n",
              "  </thead>\n",
              "  <tbody>\n",
              "    <tr>\n",
              "      <th>0</th>\n",
              "      <td>b'\\xd8\\xaa\\xd8\\xad\\xd9\\x88\\xd9\\x8a\\xd9\\x84 \\xd...</td>\n",
              "      <td>b'Kittrell, North Carolina'</td>\n",
              "    </tr>\n",
              "    <tr>\n",
              "      <th>1</th>\n",
              "      <td>b'\\xd8\\xaa\\xd8\\xad\\xd9\\x88\\xd9\\x8a\\xd9\\x84 \\xd...</td>\n",
              "      <td>b'\\xd8\\xa8\\xd9\\x88\\xd9\\x87\\xd9\\x86\\xd8\\xa8\\xd8...</td>\n",
              "    </tr>\n",
              "    <tr>\n",
              "      <th>2</th>\n",
              "      <td>b'\\xd8\\xb3\\xd8\\xaa\\xd8\\xa7\\xd9\\x8a\\xd8\\xb3\\xd9...</td>\n",
              "      <td>b'\\xd8\\xb3\\xd8\\xaa\\xd8\\xa7\\xd9\\x8a\\xd8\\xb3\\xd9...</td>\n",
              "    </tr>\n",
              "    <tr>\n",
              "      <th>3</th>\n",
              "      <td>b'\\xd8\\xaa\\xd8\\xad\\xd9\\x88\\xd9\\x8a\\xd9\\x84 \\xd...</td>\n",
              "      <td>b'\\xe0\\xae\\x85\\xe0\\xae\\xaf\\xe0\\xaf\\x8d\\xe0\\xae...</td>\n",
              "    </tr>\n",
              "    <tr>\n",
              "      <th>4</th>\n",
              "      <td>b'\\xd9\\x85\\xd9\\x82\\xd8\\xa7\\xd8\\xb7\\xd8\\xb9\\xd8...</td>\n",
              "      <td>b'\\xd9\\x85\\xd9\\x82\\xd8\\xa7\\xd8\\xb7\\xd8\\xb9\\xd8...</td>\n",
              "    </tr>\n",
              "  </tbody>\n",
              "</table>\n",
              "</div>"
            ],
            "text/plain": [
              "                                                text                                              title\n",
              "0  b'\\xd8\\xaa\\xd8\\xad\\xd9\\x88\\xd9\\x8a\\xd9\\x84 \\xd...                        b'Kittrell, North Carolina'\n",
              "1  b'\\xd8\\xaa\\xd8\\xad\\xd9\\x88\\xd9\\x8a\\xd9\\x84 \\xd...  b'\\xd8\\xa8\\xd9\\x88\\xd9\\x87\\xd9\\x86\\xd8\\xa8\\xd8...\n",
              "2  b'\\xd8\\xb3\\xd8\\xaa\\xd8\\xa7\\xd9\\x8a\\xd8\\xb3\\xd9...  b'\\xd8\\xb3\\xd8\\xaa\\xd8\\xa7\\xd9\\x8a\\xd8\\xb3\\xd9...\n",
              "3  b'\\xd8\\xaa\\xd8\\xad\\xd9\\x88\\xd9\\x8a\\xd9\\x84 \\xd...  b'\\xe0\\xae\\x85\\xe0\\xae\\xaf\\xe0\\xaf\\x8d\\xe0\\xae...\n",
              "4  b'\\xd9\\x85\\xd9\\x82\\xd8\\xa7\\xd8\\xb7\\xd8\\xb9\\xd8...  b'\\xd9\\x85\\xd9\\x82\\xd8\\xa7\\xd8\\xb7\\xd8\\xb9\\xd8..."
            ]
          },
          "metadata": {
            "tags": []
          },
          "execution_count": 12
        }
      ]
    },
    {
      "cell_type": "markdown",
      "metadata": {
        "id": "i3EVILI8zfgd"
      },
      "source": [
        "# Creating embedding using gensim"
      ]
    },
    {
      "cell_type": "code",
      "metadata": {
        "colab": {
          "base_uri": "https://localhost:8080/"
        },
        "id": "iLbMBQyezbo1",
        "outputId": "8c203abe-da7f-48e5-8a10-3b2a03f51009"
      },
      "source": [
        "!pip install --upgrade gensim"
      ],
      "execution_count": null,
      "outputs": [
        {
          "output_type": "stream",
          "text": [
            "Requirement already satisfied: gensim in /usr/local/lib/python3.7/dist-packages (3.6.0)\n",
            "Collecting gensim\n",
            "  Downloading gensim-4.0.1-cp37-cp37m-manylinux1_x86_64.whl (23.9 MB)\n",
            "\u001b[K     |████████████████████████████████| 23.9 MB 1.3 MB/s \n",
            "\u001b[?25hRequirement already satisfied: smart-open>=1.8.1 in /usr/local/lib/python3.7/dist-packages (from gensim) (5.1.0)\n",
            "Requirement already satisfied: numpy>=1.11.3 in /usr/local/lib/python3.7/dist-packages (from gensim) (1.19.5)\n",
            "Requirement already satisfied: scipy>=0.18.1 in /usr/local/lib/python3.7/dist-packages (from gensim) (1.4.1)\n",
            "Installing collected packages: gensim\n",
            "  Attempting uninstall: gensim\n",
            "    Found existing installation: gensim 3.6.0\n",
            "    Uninstalling gensim-3.6.0:\n",
            "      Successfully uninstalled gensim-3.6.0\n",
            "Successfully installed gensim-4.0.1\n"
          ],
          "name": "stdout"
        }
      ]
    },
    {
      "cell_type": "code",
      "metadata": {
        "colab": {
          "base_uri": "https://localhost:8080/"
        },
        "id": "_PcVwF-hIJ9h",
        "outputId": "ffe84fcd-b77c-4299-8160-294c44aba8de"
      },
      "source": [
        "!git clone https://github.com/hgrif/wiki-word2vec.git"
      ],
      "execution_count": null,
      "outputs": [
        {
          "output_type": "stream",
          "text": [
            "Cloning into 'wiki-word2vec'...\n",
            "remote: Enumerating objects: 42, done.\u001b[K\n",
            "remote: Total 42 (delta 0), reused 0 (delta 0), pack-reused 42\u001b[K\n",
            "Unpacking objects: 100% (42/42), done.\n"
          ],
          "name": "stdout"
        }
      ]
    },
    {
      "cell_type": "code",
      "metadata": {
        "colab": {
          "base_uri": "https://localhost:8080/"
        },
        "id": "goSX-OaZIvd4",
        "outputId": "47a86b55-56c0-45b1-a5ff-62f7283d10cf"
      },
      "source": [
        "#Get swahili data\n",
        "!mkdir -p data/sw/\n",
        "!wget -P data/sw/ https://dumps.wikimedia.org/swwiki/latest/swwiki-latest-pages-articles.xml.bz2\n"
      ],
      "execution_count": null,
      "outputs": [
        {
          "output_type": "stream",
          "text": [
            "--2021-08-13 22:46:48--  https://dumps.wikimedia.org/swwiki/latest/swwiki-latest-pages-articles.xml.bz2\n",
            "Resolving dumps.wikimedia.org (dumps.wikimedia.org)... 208.80.154.7, 2620:0:861:1:208:80:154:7\n",
            "Connecting to dumps.wikimedia.org (dumps.wikimedia.org)|208.80.154.7|:443... connected.\n",
            "HTTP request sent, awaiting response... 200 OK\n",
            "Length: 34487959 (33M) [application/octet-stream]\n",
            "Saving to: ‘data/sw/swwiki-latest-pages-articles.xml.bz2’\n",
            "\n",
            "swwiki-latest-pages 100%[===================>]  32.89M  4.90MB/s    in 6.6s    \n",
            "\n",
            "2021-08-13 22:46:55 (4.98 MB/s) - ‘data/sw/swwiki-latest-pages-articles.xml.bz2’ saved [34487959/34487959]\n",
            "\n"
          ],
          "name": "stdout"
        }
      ]
    },
    {
      "cell_type": "code",
      "metadata": {
        "colab": {
          "base_uri": "https://localhost:8080/"
        },
        "id": "9M1mMY_iI1Vw",
        "outputId": "0395c472-37ac-4318-a51d-0b22d99ba34e"
      },
      "source": [
        "import multiprocessing\n",
        "from gensim.corpora.wikicorpus import WikiCorpus\n",
        "from gensim.models.word2vec import Word2Vec\n",
        "\n",
        "wiki = WikiCorpus('data/sw/swwiki-latest-pages-articles.xml.bz2', \n",
        "                   dictionary={})\n",
        "sentences = list(wiki.get_texts())\n"
      ],
      "execution_count": null,
      "outputs": [
        {
          "output_type": "stream",
          "text": [
            "/usr/local/lib/python3.7/dist-packages/gensim/similarities/__init__.py:15: UserWarning: The gensim.similarities.levenshtein submodule is disabled, because the optional Levenshtein package <https://pypi.org/project/python-Levenshtein/> is unavailable. Install Levenhstein (e.g. `pip install python-Levenshtein`) to suppress this warning.\n",
            "  warnings.warn(msg)\n"
          ],
          "name": "stderr"
        }
      ]
    },
    {
      "cell_type": "code",
      "metadata": {
        "id": "yK2uzqXlI3wI"
      },
      "source": [
        "params = {'window': 10, 'min_count': 10, \n",
        "          'workers': max(1, multiprocessing.cpu_count() - 1), 'sample': 1E-3,}"
      ],
      "execution_count": null,
      "outputs": []
    },
    {
      "cell_type": "code",
      "metadata": {
        "id": "VQm_yn6X_PQY"
      },
      "source": [
        "word2vec = Word2Vec(sentences, **params)\n",
        "word2vec.save(\"word2vec.model\")"
      ],
      "execution_count": null,
      "outputs": []
    },
    {
      "cell_type": "code",
      "metadata": {
        "id": "sL1evBAVtbun"
      },
      "source": [
        "from scipy.spatial.distance import cosine"
      ],
      "execution_count": null,
      "outputs": []
    },
    {
      "cell_type": "code",
      "metadata": {
        "colab": {
          "base_uri": "https://localhost:8080/"
        },
        "id": "3aqAJuXfCT2g",
        "outputId": "383ee07d-bee3-4ce2-e7d7-448e5a377185"
      },
      "source": [
        "vector_man = word2vec.wv['mwanaume']  # get numpy vector of a word\n",
        "\n",
        "vector_boy = word2vec.wv['mvulana']  # get numpy vector of a word\n",
        "print(\"Cosine between boy and man in \"+ str(5) +\" epochs, is: \" + str(1 - cosine(vector_man, vector_boy)))"
      ],
      "execution_count": null,
      "outputs": [
        {
          "output_type": "stream",
          "text": [
            "Cosine between boy and man in 5 epochs, is: 0.7277519106864929\n"
          ],
          "name": "stdout"
        }
      ]
    },
    {
      "cell_type": "code",
      "metadata": {
        "colab": {
          "base_uri": "https://localhost:8080/"
        },
        "id": "SmIZvHJU8u9X",
        "outputId": "1da2296c-5e82-4733-8d42-40c33265a92f"
      },
      "source": [
        "for i in range(10):  \n",
        "  word2vec.train(sentences, total_examples=word2vec.corpus_count, epochs=5)\n",
        "  vector_man = word2vec.wv['mwanaume']  # get numpy vector of a word\n",
        "  vector_boy = word2vec.wv['mvulana']  # get numpy vector of a word\n",
        "  print(\"Cosine between boy and man in \"+ str(i*5) +\" epochs, is: \" + str(1 - cosine(vector_man, vector_boy)))"
      ],
      "execution_count": null,
      "outputs": [
        {
          "output_type": "stream",
          "text": [
            "WARNING:gensim.models.word2vec:Effective 'alpha' higher than previous training cycles\n",
            "WARNING:gensim.models.word2vec:Effective 'alpha' higher than previous training cycles\n"
          ],
          "name": "stderr"
        },
        {
          "output_type": "stream",
          "text": [
            "Cosine between boy and man in 0 epochs, is: 0.6671359539031982\n"
          ],
          "name": "stdout"
        },
        {
          "output_type": "stream",
          "text": [
            "WARNING:gensim.models.word2vec:Effective 'alpha' higher than previous training cycles\n"
          ],
          "name": "stderr"
        },
        {
          "output_type": "stream",
          "text": [
            "Cosine between boy and man in 5 epochs, is: 0.6383607387542725\n"
          ],
          "name": "stdout"
        },
        {
          "output_type": "stream",
          "text": [
            "WARNING:gensim.models.word2vec:Effective 'alpha' higher than previous training cycles\n"
          ],
          "name": "stderr"
        },
        {
          "output_type": "stream",
          "text": [
            "Cosine between boy and man in 10 epochs, is: 0.5517609119415283\n"
          ],
          "name": "stdout"
        },
        {
          "output_type": "stream",
          "text": [
            "WARNING:gensim.models.word2vec:Effective 'alpha' higher than previous training cycles\n"
          ],
          "name": "stderr"
        },
        {
          "output_type": "stream",
          "text": [
            "Cosine between boy and man in 15 epochs, is: 0.49562448263168335\n"
          ],
          "name": "stdout"
        },
        {
          "output_type": "stream",
          "text": [
            "WARNING:gensim.models.word2vec:Effective 'alpha' higher than previous training cycles\n"
          ],
          "name": "stderr"
        },
        {
          "output_type": "stream",
          "text": [
            "Cosine between boy and man in 20 epochs, is: 0.49191808700561523\n"
          ],
          "name": "stdout"
        },
        {
          "output_type": "stream",
          "text": [
            "WARNING:gensim.models.word2vec:Effective 'alpha' higher than previous training cycles\n"
          ],
          "name": "stderr"
        },
        {
          "output_type": "stream",
          "text": [
            "Cosine between boy and man in 25 epochs, is: 0.4959765076637268\n"
          ],
          "name": "stdout"
        },
        {
          "output_type": "stream",
          "text": [
            "WARNING:gensim.models.word2vec:Effective 'alpha' higher than previous training cycles\n"
          ],
          "name": "stderr"
        },
        {
          "output_type": "stream",
          "text": [
            "Cosine between boy and man in 30 epochs, is: 0.47750186920166016\n"
          ],
          "name": "stdout"
        },
        {
          "output_type": "stream",
          "text": [
            "WARNING:gensim.models.word2vec:Effective 'alpha' higher than previous training cycles\n"
          ],
          "name": "stderr"
        },
        {
          "output_type": "stream",
          "text": [
            "Cosine between boy and man in 35 epochs, is: 0.48383042216300964\n"
          ],
          "name": "stdout"
        },
        {
          "output_type": "stream",
          "text": [
            "WARNING:gensim.models.word2vec:Effective 'alpha' higher than previous training cycles\n"
          ],
          "name": "stderr"
        },
        {
          "output_type": "stream",
          "text": [
            "Cosine between boy and man in 40 epochs, is: 0.4489280879497528\n",
            "Cosine between boy and man in 45 epochs, is: 0.44285863637924194\n"
          ],
          "name": "stdout"
        }
      ]
    },
    {
      "cell_type": "code",
      "metadata": {
        "id": "FEP6crYBJ4-a"
      },
      "source": [
        "word2vec.save(\"word2vec.model\")"
      ],
      "execution_count": null,
      "outputs": []
    },
    {
      "cell_type": "code",
      "metadata": {
        "id": "Kx0x48OEJ4-b"
      },
      "source": [
        "model_swahili = Word2Vec.load(\"word2vec.model\")"
      ],
      "execution_count": null,
      "outputs": []
    },
    {
      "cell_type": "code",
      "metadata": {
        "id": "RnFUM-cTJ4-b"
      },
      "source": [
        "vector_man = model_swahili.wv['mwanaume']  # get numpy vector of a word\n",
        "sims = model_swahili.wv.most_similar('mwanaume', topn=10)  # get other similar words"
      ],
      "execution_count": null,
      "outputs": []
    },
    {
      "cell_type": "code",
      "metadata": {
        "colab": {
          "base_uri": "https://localhost:8080/"
        },
        "id": "vTeqj0FWIDra",
        "outputId": "d7643cea-6906-4ec9-c0c6-e4709aae9048"
      },
      "source": [
        "sims"
      ],
      "execution_count": null,
      "outputs": [
        {
          "output_type": "execute_result",
          "data": {
            "text/plain": [
              "[('mvulana', 0.7277518510818481),\n",
              " ('msichana', 0.7257815599441528),\n",
              " ('nae', 0.7235980033874512),\n",
              " ('bennet', 0.7187550067901611),\n",
              " ('nusura', 0.7069060802459717),\n",
              " ('dully', 0.6989878416061401),\n",
              " ('wakina', 0.6972491145133972),\n",
              " ('bi', 0.6946593523025513),\n",
              " ('mahaba', 0.6930020451545715),\n",
              " ('aje', 0.6900444626808167)]"
            ]
          },
          "metadata": {
            "tags": []
          },
          "execution_count": 22
        }
      ]
    },
    {
      "cell_type": "code",
      "metadata": {
        "id": "AnJb6de2IJ4U"
      },
      "source": [
        "vector_boy = model_swahili.wv['mvulana']  # get numpy vector of a word"
      ],
      "execution_count": null,
      "outputs": []
    },
    {
      "cell_type": "code",
      "metadata": {
        "id": "4STOYjqAF2C4"
      },
      "source": [
        "#Import cosine distance\n",
        "from scipy.spatial.distance import cosine"
      ],
      "execution_count": null,
      "outputs": []
    },
    {
      "cell_type": "code",
      "metadata": {
        "colab": {
          "base_uri": "https://localhost:8080/"
        },
        "id": "1T6Lx-9WKBbY",
        "outputId": "36c32355-b944-40d2-ace6-e36943d9778b"
      },
      "source": [
        "1 - cosine(vector_man, vector_boy)"
      ],
      "execution_count": null,
      "outputs": [
        {
          "output_type": "execute_result",
          "data": {
            "text/plain": [
              "0.7277519106864929"
            ]
          },
          "metadata": {
            "tags": []
          },
          "execution_count": 26
        }
      ]
    },
    {
      "cell_type": "code",
      "metadata": {
        "id": "AN-E-2ojIS--"
      },
      "source": [
        "vector_queen = model_swahili.wv['malkia']  # get numpy vector of a word\n",
        "sims = model_swahili.wv.most_similar('malkia', topn=10)  # get other similar words"
      ],
      "execution_count": null,
      "outputs": []
    },
    {
      "cell_type": "code",
      "metadata": {
        "colab": {
          "base_uri": "https://localhost:8080/"
        },
        "id": "WaTs3jdMITcx",
        "outputId": "249df986-d0ed-421d-dfa7-4cc5e9b651b6"
      },
      "source": [
        "sims"
      ],
      "execution_count": null,
      "outputs": [
        {
          "output_type": "execute_result",
          "data": {
            "text/plain": [
              "[('mfalme', 0.8444384932518005),\n",
              " ('mtawala', 0.7251664996147156),\n",
              " ('mkabaila', 0.6911629438400269),\n",
              " ('farao', 0.6742110252380371),\n",
              " ('mtemi', 0.6704172492027283),\n",
              " ('mrithi', 0.6614590883255005),\n",
              " ('alirithi', 0.6611064672470093),\n",
              " ('kifalme', 0.6572237610816956),\n",
              " ('alitawala', 0.6564803719520569),\n",
              " ('mke', 0.6315830945968628)]"
            ]
          },
          "metadata": {
            "tags": []
          },
          "execution_count": 28
        }
      ]
    },
    {
      "cell_type": "code",
      "metadata": {
        "id": "OtWM_1zCITha"
      },
      "source": [
        "#mfalme -> king\n",
        "#mtawala -> ruler\n",
        "#mkabaila -> landlord\n",
        "#farao -> pharaoh\n",
        "#mtemi -> spit\n",
        "#mrithi -> heir\n",
        "#alirithi -> he does not inherit\n",
        "#kifalme -> royal\n",
        "#alitawala -> he ruled\n",
        "#mke -> wife"
      ],
      "execution_count": null,
      "outputs": []
    },
    {
      "cell_type": "code",
      "metadata": {
        "id": "ltjjW1qNITjy"
      },
      "source": [
        ""
      ],
      "execution_count": null,
      "outputs": []
    },
    {
      "cell_type": "markdown",
      "metadata": {
        "id": "pZFju4o4bIM9"
      },
      "source": [
        "# Creating a Keras model from embeddings"
      ]
    },
    {
      "cell_type": "code",
      "metadata": {
        "id": "atdUjlt4KK8g"
      },
      "source": [
        "l = len(list(model_swahili.wv.index_to_key))"
      ],
      "execution_count": null,
      "outputs": []
    },
    {
      "cell_type": "code",
      "metadata": {
        "id": "uGZ6nHDXLkJ6"
      },
      "source": [
        "# TensorFlow imports\n",
        "import tensorflow as tf\n",
        "from tensorflow.keras.preprocessing import sequence, text\n",
        "from tensorflow.keras import models\n",
        "from tensorflow.keras.layers import Dense, Dropout, Embedding, Conv1D, MaxPooling1D, GlobalAveragePooling1D"
      ],
      "execution_count": null,
      "outputs": []
    },
    {
      "cell_type": "code",
      "metadata": {
        "id": "TtFWNV_cTJk8"
      },
      "source": [
        "from keras.preprocessing.text import Tokenizer\n",
        "import numpy as np"
      ],
      "execution_count": null,
      "outputs": []
    },
    {
      "cell_type": "code",
      "metadata": {
        "id": "XhLQPia6TOzm"
      },
      "source": [
        "all_words = list(model_swahili.wv.index_to_key)"
      ],
      "execution_count": null,
      "outputs": []
    },
    {
      "cell_type": "code",
      "metadata": {
        "id": "1WXnwycuQAKi"
      },
      "source": [
        "vocab = model_swahili.wv.index_to_key    \n",
        "t = Tokenizer()\n",
        "\n",
        "vocab_size = len(all_words) + 1\n",
        "t.fit_on_texts(all_words)\n",
        "\n",
        "def get_weight_matrix():\n",
        "    # define weight matrix dimensions with all 0\n",
        "    weight_matrix = np.zeros((vocab_size, model_swahili.vector_size))\n",
        "    # step vocab, store vectors using the Tokenizer's integer mapping\n",
        "    for i in range(len(all_words)):\n",
        "        weight_matrix[i + 1] = model_swahili.wv[all_words[i]]\n",
        "    return weight_matrix\n",
        "\n",
        "embedding_vectors = get_weight_matrix()\n",
        "emb_layer = Embedding(vocab_size, output_dim=model_swahili.vector_size, weights=[embedding_vectors], trainable=False)"
      ],
      "execution_count": null,
      "outputs": []
    },
    {
      "cell_type": "code",
      "metadata": {
        "colab": {
          "base_uri": "https://localhost:8080/"
        },
        "id": "-S2Fihh1R8sB",
        "outputId": "b4360aad-c9bb-4ec1-c4a4-1aff98a4d6a3"
      },
      "source": [
        "emb_layer"
      ],
      "execution_count": null,
      "outputs": [
        {
          "output_type": "execute_result",
          "data": {
            "text/plain": [
              "<tensorflow.python.keras.layers.embeddings.Embedding at 0x7f2efac368d0>"
            ]
          },
          "metadata": {
            "tags": []
          },
          "execution_count": 34
        }
      ]
    },
    {
      "cell_type": "code",
      "metadata": {
        "id": "AThd-G-yTszy"
      },
      "source": [
        "# Create model instance\n",
        "model = models.Sequential()"
      ],
      "execution_count": null,
      "outputs": []
    },
    {
      "cell_type": "code",
      "metadata": {
        "id": "sLBVKgi_T7Ta"
      },
      "source": [
        "model.add(emb_layer)"
      ],
      "execution_count": null,
      "outputs": []
    },
    {
      "cell_type": "code",
      "metadata": {
        "colab": {
          "base_uri": "https://localhost:8080/"
        },
        "id": "arz3QzXtT8X5",
        "outputId": "3bab6190-12d8-45b2-df22-2d4863925c11"
      },
      "source": [
        "model.summary()"
      ],
      "execution_count": null,
      "outputs": [
        {
          "output_type": "stream",
          "text": [
            "Model: \"sequential\"\n",
            "_________________________________________________________________\n",
            "Layer (type)                 Output Shape              Param #   \n",
            "=================================================================\n",
            "embedding (Embedding)        (None, None, 100)         3811500   \n",
            "=================================================================\n",
            "Total params: 3,811,500\n",
            "Trainable params: 0\n",
            "Non-trainable params: 3,811,500\n",
            "_________________________________________________________________\n"
          ],
          "name": "stdout"
        }
      ]
    },
    {
      "cell_type": "code",
      "metadata": {
        "colab": {
          "base_uri": "https://localhost:8080/"
        },
        "id": "-pbygtJQUKV6",
        "outputId": "83c40bef-2ea0-4966-9fd2-c40a3369b7ae"
      },
      "source": [
        "t.texts_to_sequences([\"mwanaume\"])"
      ],
      "execution_count": null,
      "outputs": [
        {
          "output_type": "execute_result",
          "data": {
            "text/plain": [
              "[[5006]]"
            ]
          },
          "metadata": {
            "tags": []
          },
          "execution_count": 36
        }
      ]
    },
    {
      "cell_type": "code",
      "metadata": {
        "id": "s53ymWGXT-fx"
      },
      "source": [
        "vector_man = model(t.texts_to_sequences([\"mwanaume\"]))"
      ],
      "execution_count": null,
      "outputs": []
    },
    {
      "cell_type": "code",
      "metadata": {
        "colab": {
          "base_uri": "https://localhost:8080/"
        },
        "id": "HMBVzia7bVWQ",
        "outputId": "66c37d1b-2fc7-4051-d62e-917f9d7803d4"
      },
      "source": [
        "vector_man.shape"
      ],
      "execution_count": null,
      "outputs": [
        {
          "output_type": "execute_result",
          "data": {
            "text/plain": [
              "TensorShape([100])"
            ]
          },
          "metadata": {
            "tags": []
          },
          "execution_count": 43
        }
      ]
    },
    {
      "cell_type": "code",
      "metadata": {
        "colab": {
          "base_uri": "https://localhost:8080/"
        },
        "id": "LqtXujLzba7u",
        "outputId": "5f7fef2b-d872-468a-83f0-0b86a8a84c7e"
      },
      "source": [
        "tf.keras.models.save_model(\n",
        "    model, \"./model\")"
      ],
      "execution_count": null,
      "outputs": [
        {
          "output_type": "stream",
          "text": [
            "WARNING:tensorflow:Compiled the loaded model, but the compiled metrics have yet to be built. `model.compile_metrics` will be empty until you train or evaluate the model.\n"
          ],
          "name": "stdout"
        },
        {
          "output_type": "stream",
          "text": [
            "WARNING:tensorflow:Compiled the loaded model, but the compiled metrics have yet to be built. `model.compile_metrics` will be empty until you train or evaluate the model.\n"
          ],
          "name": "stderr"
        },
        {
          "output_type": "stream",
          "text": [
            "INFO:tensorflow:Assets written to: ./model/assets\n"
          ],
          "name": "stdout"
        },
        {
          "output_type": "stream",
          "text": [
            "INFO:tensorflow:Assets written to: ./model/assets\n"
          ],
          "name": "stderr"
        }
      ]
    },
    {
      "cell_type": "code",
      "metadata": {
        "colab": {
          "base_uri": "https://localhost:8080/"
        },
        "id": "m2y3MAWjc3Vf",
        "outputId": "33421c80-4315-435e-ca3c-dbf5c11c8b3c"
      },
      "source": [
        "!tar -czvf swahili_word2vec.tar.gz -C model ."
      ],
      "execution_count": null,
      "outputs": [
        {
          "output_type": "stream",
          "text": [
            "./\n",
            "./keras_metadata.pb\n",
            "./assets/\n",
            "./variables/\n",
            "./variables/variables.index\n",
            "./variables/variables.data-00000-of-00001\n",
            "./saved_model.pb\n"
          ],
          "name": "stdout"
        }
      ]
    },
    {
      "cell_type": "code",
      "metadata": {
        "id": "cb6a2g00c6jP"
      },
      "source": [
        "import pickle\n",
        "\n",
        "# saving\n",
        "with open('tokenizer.pkl', 'wb') as handle:\n",
        "    pickle.dump(t, handle, protocol=pickle.HIGHEST_PROTOCOL)"
      ],
      "execution_count": null,
      "outputs": []
    },
    {
      "cell_type": "code",
      "metadata": {
        "id": "kPXmYs-QfwXs"
      },
      "source": [
        "# loading\n",
        "with open('tokenizer.pkl', 'rb') as handle:\n",
        "    tokenizer = pickle.load(handle)"
      ],
      "execution_count": null,
      "outputs": []
    },
    {
      "cell_type": "code",
      "metadata": {
        "id": "nIkV0QG0f4JK"
      },
      "source": [
        ""
      ],
      "execution_count": null,
      "outputs": []
    }
  ]
}